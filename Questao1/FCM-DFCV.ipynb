{
 "cells": [
  {
   "cell_type": "markdown",
   "metadata": {},
   "source": [
    "## Carregamento e preparo dos dados"
   ]
  },
  {
   "cell_type": "code",
   "execution_count": 1,
   "metadata": {},
   "outputs": [],
   "source": [
    "import pandas as pd\n",
    "import numpy as np\n",
    "from scipy.special import softmax\n",
    "from numba import jit\n",
    "import matplotlib.pyplot as plt\n",
    "import matplotlib.cm as cm\n",
    "import optuna"
   ]
  },
  {
   "cell_type": "code",
   "execution_count": 2,
   "metadata": {},
   "outputs": [
    {
     "data": {
      "text/html": [
       "<div>\n",
       "<style scoped>\n",
       "    .dataframe tbody tr th:only-of-type {\n",
       "        vertical-align: middle;\n",
       "    }\n",
       "\n",
       "    .dataframe tbody tr th {\n",
       "        vertical-align: top;\n",
       "    }\n",
       "\n",
       "    .dataframe thead th {\n",
       "        text-align: right;\n",
       "    }\n",
       "</style>\n",
       "<table border=\"1\" class=\"dataframe\">\n",
       "  <thead>\n",
       "    <tr style=\"text-align: right;\">\n",
       "      <th></th>\n",
       "      <th>Sequence Name</th>\n",
       "      <th>mcg</th>\n",
       "      <th>gvh</th>\n",
       "      <th>alm</th>\n",
       "      <th>mit</th>\n",
       "      <th>erl</th>\n",
       "      <th>pox</th>\n",
       "      <th>vac</th>\n",
       "      <th>nuc</th>\n",
       "      <th>label</th>\n",
       "    </tr>\n",
       "  </thead>\n",
       "  <tbody>\n",
       "    <tr>\n",
       "      <th>0</th>\n",
       "      <td>ADT1_YEAST</td>\n",
       "      <td>0.58</td>\n",
       "      <td>0.61</td>\n",
       "      <td>0.47</td>\n",
       "      <td>0.13</td>\n",
       "      <td>0.5</td>\n",
       "      <td>0.0</td>\n",
       "      <td>0.48</td>\n",
       "      <td>0.22</td>\n",
       "      <td>MIT</td>\n",
       "    </tr>\n",
       "    <tr>\n",
       "      <th>1</th>\n",
       "      <td>ADT2_YEAST</td>\n",
       "      <td>0.43</td>\n",
       "      <td>0.67</td>\n",
       "      <td>0.48</td>\n",
       "      <td>0.27</td>\n",
       "      <td>0.5</td>\n",
       "      <td>0.0</td>\n",
       "      <td>0.53</td>\n",
       "      <td>0.22</td>\n",
       "      <td>MIT</td>\n",
       "    </tr>\n",
       "    <tr>\n",
       "      <th>2</th>\n",
       "      <td>ADT3_YEAST</td>\n",
       "      <td>0.64</td>\n",
       "      <td>0.62</td>\n",
       "      <td>0.49</td>\n",
       "      <td>0.15</td>\n",
       "      <td>0.5</td>\n",
       "      <td>0.0</td>\n",
       "      <td>0.53</td>\n",
       "      <td>0.22</td>\n",
       "      <td>MIT</td>\n",
       "    </tr>\n",
       "    <tr>\n",
       "      <th>3</th>\n",
       "      <td>AAR2_YEAST</td>\n",
       "      <td>0.58</td>\n",
       "      <td>0.44</td>\n",
       "      <td>0.57</td>\n",
       "      <td>0.13</td>\n",
       "      <td>0.5</td>\n",
       "      <td>0.0</td>\n",
       "      <td>0.54</td>\n",
       "      <td>0.22</td>\n",
       "      <td>NUC</td>\n",
       "    </tr>\n",
       "    <tr>\n",
       "      <th>4</th>\n",
       "      <td>AATM_YEAST</td>\n",
       "      <td>0.42</td>\n",
       "      <td>0.44</td>\n",
       "      <td>0.48</td>\n",
       "      <td>0.54</td>\n",
       "      <td>0.5</td>\n",
       "      <td>0.0</td>\n",
       "      <td>0.48</td>\n",
       "      <td>0.22</td>\n",
       "      <td>MIT</td>\n",
       "    </tr>\n",
       "  </tbody>\n",
       "</table>\n",
       "</div>"
      ],
      "text/plain": [
       "  Sequence Name   mcg   gvh   alm   mit  erl  pox   vac   nuc label\n",
       "0    ADT1_YEAST  0.58  0.61  0.47  0.13  0.5  0.0  0.48  0.22   MIT\n",
       "1    ADT2_YEAST  0.43  0.67  0.48  0.27  0.5  0.0  0.53  0.22   MIT\n",
       "2    ADT3_YEAST  0.64  0.62  0.49  0.15  0.5  0.0  0.53  0.22   MIT\n",
       "3    AAR2_YEAST  0.58  0.44  0.57  0.13  0.5  0.0  0.54  0.22   NUC\n",
       "4    AATM_YEAST  0.42  0.44  0.48  0.54  0.5  0.0  0.48  0.22   MIT"
      ]
     },
     "execution_count": 2,
     "metadata": {},
     "output_type": "execute_result"
    }
   ],
   "source": [
    "raw_data = pd.read_csv('yeast.data',\n",
    "                       sep = '\\s+',\n",
    "                       header=None,\n",
    "                       names=[\"Sequence Name\",\"mcg\", \"gvh\", \"alm\", \"mit\", \"erl\", \"pox\", \"vac\", \"nuc\", \"label\"]\n",
    "                      )\n",
    "raw_data.head()"
   ]
  },
  {
   "cell_type": "code",
   "execution_count": 3,
   "metadata": {},
   "outputs": [
    {
     "data": {
      "image/png": "[encoded data removed]",
      "text/plain": [
       "<Figure size 720x504 with 1 Axes>"
      ]
     },
     "metadata": {
      "needs_background": "light"
     },
     "output_type": "display_data"
    }
   ],
   "source": [
    "labels, count = np.unique(raw_data[\"label\"], return_counts=True)\n",
    "plt.figure(figsize=(10,7))\n",
    "plt.bar(labels, count);"
   ]
  },
  {
   "cell_type": "markdown",
   "metadata": {},
   "source": [
    "#### Descartando os atributos categóricos:"
   ]
  },
  {
   "cell_type": "code",
   "execution_count": 4,
   "metadata": {},
   "outputs": [
    {
     "data": {
      "text/html": [
       "<div>\n",
       "<style scoped>\n",
       "    .dataframe tbody tr th:only-of-type {\n",
       "        vertical-align: middle;\n",
       "    }\n",
       "\n",
       "    .dataframe tbody tr th {\n",
       "        vertical-align: top;\n",
       "    }\n",
       "\n",
       "    .dataframe thead th {\n",
       "        text-align: right;\n",
       "    }\n",
       "</style>\n",
       "<table border=\"1\" class=\"dataframe\">\n",
       "  <thead>\n",
       "    <tr style=\"text-align: right;\">\n",
       "      <th></th>\n",
       "      <th>mcg</th>\n",
       "      <th>gvh</th>\n",
       "      <th>alm</th>\n",
       "      <th>mit</th>\n",
       "      <th>erl</th>\n",
       "      <th>pox</th>\n",
       "      <th>vac</th>\n",
       "      <th>nuc</th>\n",
       "    </tr>\n",
       "  </thead>\n",
       "  <tbody>\n",
       "    <tr>\n",
       "      <th>0</th>\n",
       "      <td>0.58</td>\n",
       "      <td>0.61</td>\n",
       "      <td>0.47</td>\n",
       "      <td>0.13</td>\n",
       "      <td>0.5</td>\n",
       "      <td>0.0</td>\n",
       "      <td>0.48</td>\n",
       "      <td>0.22</td>\n",
       "    </tr>\n",
       "    <tr>\n",
       "      <th>1</th>\n",
       "      <td>0.43</td>\n",
       "      <td>0.67</td>\n",
       "      <td>0.48</td>\n",
       "      <td>0.27</td>\n",
       "      <td>0.5</td>\n",
       "      <td>0.0</td>\n",
       "      <td>0.53</td>\n",
       "      <td>0.22</td>\n",
       "    </tr>\n",
       "    <tr>\n",
       "      <th>2</th>\n",
       "      <td>0.64</td>\n",
       "      <td>0.62</td>\n",
       "      <td>0.49</td>\n",
       "      <td>0.15</td>\n",
       "      <td>0.5</td>\n",
       "      <td>0.0</td>\n",
       "      <td>0.53</td>\n",
       "      <td>0.22</td>\n",
       "    </tr>\n",
       "    <tr>\n",
       "      <th>3</th>\n",
       "      <td>0.58</td>\n",
       "      <td>0.44</td>\n",
       "      <td>0.57</td>\n",
       "      <td>0.13</td>\n",
       "      <td>0.5</td>\n",
       "      <td>0.0</td>\n",
       "      <td>0.54</td>\n",
       "      <td>0.22</td>\n",
       "    </tr>\n",
       "    <tr>\n",
       "      <th>4</th>\n",
       "      <td>0.42</td>\n",
       "      <td>0.44</td>\n",
       "      <td>0.48</td>\n",
       "      <td>0.54</td>\n",
       "      <td>0.5</td>\n",
       "      <td>0.0</td>\n",
       "      <td>0.48</td>\n",
       "      <td>0.22</td>\n",
       "    </tr>\n",
       "  </tbody>\n",
       "</table>\n",
       "</div>"
      ],
      "text/plain": [
       "    mcg   gvh   alm   mit  erl  pox   vac   nuc\n",
       "0  0.58  0.61  0.47  0.13  0.5  0.0  0.48  0.22\n",
       "1  0.43  0.67  0.48  0.27  0.5  0.0  0.53  0.22\n",
       "2  0.64  0.62  0.49  0.15  0.5  0.0  0.53  0.22\n",
       "3  0.58  0.44  0.57  0.13  0.5  0.0  0.54  0.22\n",
       "4  0.42  0.44  0.48  0.54  0.5  0.0  0.48  0.22"
      ]
     },
     "execution_count": 4,
     "metadata": {},
     "output_type": "execute_result"
    }
   ],
   "source": [
    "df = raw_data.drop(columns=[\"Sequence Name\", \"label\"])\n",
    "#df = df + 1\n",
    "df.head()"
   ]
  },
  {
   "cell_type": "code",
   "execution_count": 5,
   "metadata": {},
   "outputs": [
    {
     "data": {
      "image/png": "[encoded data removed]",
      "text/plain": [
       "<Figure size 1440x864 with 9 Axes>"
      ]
     },
     "metadata": {
      "needs_background": "light"
     },
     "output_type": "display_data"
    }
   ],
   "source": [
    "raw_data[raw_data[\"label\"]== \"NUC\"].hist(figsize=(20,12));"
   ]
  },
  {
   "cell_type": "code",
   "execution_count": 6,
   "metadata": {},
   "outputs": [
    {
     "data": {
      "image/png": "[encoded data removed]",
      "text/plain": [
       "<Figure size 1440x864 with 9 Axes>"
      ]
     },
     "metadata": {
      "needs_background": "light"
     },
     "output_type": "display_data"
    }
   ],
   "source": [
    "df.hist(figsize=(20,12));"
   ]
  },
  {
   "cell_type": "code",
   "execution_count": 7,
   "metadata": {},
   "outputs": [
    {
     "data": {
      "text/html": [
       "<div>\n",
       "<style scoped>\n",
       "    .dataframe tbody tr th:only-of-type {\n",
       "        vertical-align: middle;\n",
       "    }\n",
       "\n",
       "    .dataframe tbody tr th {\n",
       "        vertical-align: top;\n",
       "    }\n",
       "\n",
       "    .dataframe thead th {\n",
       "        text-align: right;\n",
       "    }\n",
       "</style>\n",
       "<table border=\"1\" class=\"dataframe\">\n",
       "  <thead>\n",
       "    <tr style=\"text-align: right;\">\n",
       "      <th></th>\n",
       "      <th>mcg</th>\n",
       "      <th>gvh</th>\n",
       "      <th>alm</th>\n",
       "      <th>mit</th>\n",
       "      <th>erl</th>\n",
       "      <th>pox</th>\n",
       "      <th>vac</th>\n",
       "      <th>nuc</th>\n",
       "    </tr>\n",
       "  </thead>\n",
       "  <tbody>\n",
       "    <tr>\n",
       "      <th>count</th>\n",
       "      <td>1484.000000</td>\n",
       "      <td>1484.000000</td>\n",
       "      <td>1484.000000</td>\n",
       "      <td>1484.000000</td>\n",
       "      <td>1484.000000</td>\n",
       "      <td>1484.000000</td>\n",
       "      <td>1484.000000</td>\n",
       "      <td>1484.000000</td>\n",
       "    </tr>\n",
       "    <tr>\n",
       "      <th>mean</th>\n",
       "      <td>0.500121</td>\n",
       "      <td>0.499933</td>\n",
       "      <td>0.500034</td>\n",
       "      <td>0.261186</td>\n",
       "      <td>0.504717</td>\n",
       "      <td>0.007500</td>\n",
       "      <td>0.499885</td>\n",
       "      <td>0.276199</td>\n",
       "    </tr>\n",
       "    <tr>\n",
       "      <th>std</th>\n",
       "      <td>0.137299</td>\n",
       "      <td>0.123924</td>\n",
       "      <td>0.086670</td>\n",
       "      <td>0.137098</td>\n",
       "      <td>0.048351</td>\n",
       "      <td>0.075683</td>\n",
       "      <td>0.057797</td>\n",
       "      <td>0.106491</td>\n",
       "    </tr>\n",
       "    <tr>\n",
       "      <th>min</th>\n",
       "      <td>0.110000</td>\n",
       "      <td>0.130000</td>\n",
       "      <td>0.210000</td>\n",
       "      <td>0.000000</td>\n",
       "      <td>0.500000</td>\n",
       "      <td>0.000000</td>\n",
       "      <td>0.000000</td>\n",
       "      <td>0.000000</td>\n",
       "    </tr>\n",
       "    <tr>\n",
       "      <th>25%</th>\n",
       "      <td>0.410000</td>\n",
       "      <td>0.420000</td>\n",
       "      <td>0.460000</td>\n",
       "      <td>0.170000</td>\n",
       "      <td>0.500000</td>\n",
       "      <td>0.000000</td>\n",
       "      <td>0.480000</td>\n",
       "      <td>0.220000</td>\n",
       "    </tr>\n",
       "    <tr>\n",
       "      <th>50%</th>\n",
       "      <td>0.490000</td>\n",
       "      <td>0.490000</td>\n",
       "      <td>0.510000</td>\n",
       "      <td>0.220000</td>\n",
       "      <td>0.500000</td>\n",
       "      <td>0.000000</td>\n",
       "      <td>0.510000</td>\n",
       "      <td>0.220000</td>\n",
       "    </tr>\n",
       "    <tr>\n",
       "      <th>75%</th>\n",
       "      <td>0.580000</td>\n",
       "      <td>0.570000</td>\n",
       "      <td>0.550000</td>\n",
       "      <td>0.320000</td>\n",
       "      <td>0.500000</td>\n",
       "      <td>0.000000</td>\n",
       "      <td>0.530000</td>\n",
       "      <td>0.300000</td>\n",
       "    </tr>\n",
       "    <tr>\n",
       "      <th>max</th>\n",
       "      <td>1.000000</td>\n",
       "      <td>1.000000</td>\n",
       "      <td>1.000000</td>\n",
       "      <td>1.000000</td>\n",
       "      <td>1.000000</td>\n",
       "      <td>0.830000</td>\n",
       "      <td>0.730000</td>\n",
       "      <td>1.000000</td>\n",
       "    </tr>\n",
       "  </tbody>\n",
       "</table>\n",
       "</div>"
      ],
      "text/plain": [
       "               mcg          gvh          alm          mit          erl  \\\n",
       "count  1484.000000  1484.000000  1484.000000  1484.000000  1484.000000   \n",
       "mean      0.500121     0.499933     0.500034     0.261186     0.504717   \n",
       "std       0.137299     0.123924     0.086670     0.137098     0.048351   \n",
       "min       0.110000     0.130000     0.210000     0.000000     0.500000   \n",
       "25%       0.410000     0.420000     0.460000     0.170000     0.500000   \n",
       "50%       0.490000     0.490000     0.510000     0.220000     0.500000   \n",
       "75%       0.580000     0.570000     0.550000     0.320000     0.500000   \n",
       "max       1.000000     1.000000     1.000000     1.000000     1.000000   \n",
       "\n",
       "               pox          vac          nuc  \n",
       "count  1484.000000  1484.000000  1484.000000  \n",
       "mean      0.007500     0.499885     0.276199  \n",
       "std       0.075683     0.057797     0.106491  \n",
       "min       0.000000     0.000000     0.000000  \n",
       "25%       0.000000     0.480000     0.220000  \n",
       "50%       0.000000     0.510000     0.220000  \n",
       "75%       0.000000     0.530000     0.300000  \n",
       "max       0.830000     0.730000     1.000000  "
      ]
     },
     "execution_count": 7,
     "metadata": {},
     "output_type": "execute_result"
    }
   ],
   "source": [
    "df.describe()"
   ]
  },
  {
   "cell_type": "markdown",
   "metadata": {},
   "source": [
    "## FCM-DFCV\n",
    "#### A fuzzy clustering method based on an adaptive quadratic distance for each cluster defined by a diagonal fuzzy covariance matrix"
   ]
  },
  {
   "cell_type": "code",
   "execution_count": null,
   "metadata": {},
   "outputs": [],
   "source": []
  },
  {
   "cell_type": "markdown",
   "metadata": {},
   "source": [
    "#### Conceito:\n",
    "\n",
    "É utilizado uma função softmax na inicialização aleatória de U, pois é ideal que a matriz U tenha  $\\sum_{i=1}^{c} u_{ik} = 1$, ou seja, a soma dos graus de pertinência de uma amostra para todas as classe tem que ser 1."
   ]
  },
  {
   "cell_type": "code",
   "execution_count": 8,
   "metadata": {},
   "outputs": [
    {
     "data": {
      "text/plain": [
       "array([[0.11220007, 1.01344304],\n",
       "       [1.45460738, 0.38468886]])"
      ]
     },
     "execution_count": 8,
     "metadata": {},
     "output_type": "execute_result"
    }
   ],
   "source": [
    "3 * np.random.rand(2, 2)"
   ]
  },
  {
   "cell_type": "code",
   "execution_count": 9,
   "metadata": {},
   "outputs": [
    {
     "data": {
      "text/plain": [
       "array([[0.29014045, 0.56353606],\n",
       "       [0.70985955, 0.43646394]])"
      ]
     },
     "execution_count": 9,
     "metadata": {},
     "output_type": "execute_result"
    }
   ],
   "source": [
    "softmax(3 * np.random.rand(2, 2), axis=0)"
   ]
  },
  {
   "cell_type": "markdown",
   "metadata": {},
   "source": [
    "#### Classe do modelo:\n"
   ]
  },
  {
   "cell_type": "code",
   "execution_count": 10,
   "metadata": {},
   "outputs": [],
   "source": [
    "class FCM_DFCV:\n",
    "    def __init__(self, n_class, m, T, epsilon, rand_value_init_U, mim_distance=0.00001):\n",
    "        self.n_class = n_class\n",
    "        self.m = m\n",
    "        self.T = T\n",
    "        self.epsilon = epsilon\n",
    "        self.mim_distance = mim_distance\n",
    "        self.rand_value_init_U = rand_value_init_U\n",
    "        \n",
    "    def fit(self, df):\n",
    "        \n",
    "        self.n = df.shape[0]\n",
    "        self.p = df.shape[1]\n",
    "\n",
    "        for i in range(self.T):\n",
    "\n",
    "            if i == 0:\n",
    "\n",
    "               #Inicializacao da matriz de perminência aleatória\n",
    "                U = self.init_U_random()\n",
    "                #G_anterior interacao 0\n",
    "                G = np.zeros([self.n_class, self.p])\n",
    "                M = np.zeros([self.n_class, self.p, self.p])\n",
    "                J = np.inf\n",
    "                self.J_best = J\n",
    "\n",
    "            else:\n",
    "                #Calculo da matriz de pertinência\n",
    "                U = self.calc_U(D_M)\n",
    "                #break\n",
    "                \n",
    "            #Calculo dos prototipos    \n",
    "            G = self.calc_G(df, U, G)\n",
    "            #import pdb;pdb.set_trace()    \n",
    "\n",
    "            M = self.calc_M(U, df, G, M)\n",
    "            #Calculo das distâncias quadraticas\n",
    "            D_M = self.calc_D_M(df, G, M)\n",
    "            \n",
    "            #Calculo da função de custo\n",
    "            J_ant = J\n",
    "            J = self.calc_J(U, D_M)\n",
    "            #self.plot(G)\n",
    "        \n",
    "            if self.J_best > J :\n",
    "                self.J_best = J\n",
    "                self.U = U\n",
    "                self.G = G\n",
    "                \n",
    "            if np.abs(J - J_ant) < self.epsilon:\n",
    "                break\n",
    "                \n",
    "            \n",
    "            #print(J)\n",
    "            #break\n",
    "#        import pdb;pdb.set_trace()   \n",
    "\n",
    "    \n",
    "    def plot(self, G):\n",
    "        colors = cm.rainbow(np.linspace(0, 1, len(range(self.n_class))))\n",
    "        fig, axs = plt.subplots(2, 2, figsize=(12,12))\n",
    "        axs[0, 0].scatter(G[:,0], G[:,1], c=colors)\n",
    "        axs[0, 0].set_title('Feature 0-1')\n",
    "        axs[0, 1].scatter(G[:,2], G[:,3], c=colors)\n",
    "        axs[0, 1].set_title('Feature 2-3')\n",
    "        axs[1, 0].scatter(G[:,4], G[:,5], c=colors)\n",
    "        axs[1, 0].set_title('Feature 4-5')\n",
    "        axs[1, 1].scatter(G[:,6], G[:,7], c=colors)\n",
    "        axs[1, 1].set_title('Feature 6-7')\n",
    "        plt.show()\n",
    "        \n",
    "    #Inicialização aleatoria da matrix de pertinencia U    \n",
    "    def init_U_random(self):\n",
    "        return softmax(self.rand_value_init_U * np.random.rand(self.n_class, self.n), axis=0)\n",
    "    \n",
    "    def calc_U(self, D_M):\n",
    "        U = np.zeros([self.n_class, self.n])\n",
    "        for k in range(self.n):\n",
    "            \n",
    "            argmin_values = np.argwhere( D_M[:, k] < self.mim_distance)\n",
    "            \n",
    "            if len(argmin_values) > 0 :\n",
    "                i = argmin_values[0][0]\n",
    "                U[:, k] = 0\n",
    "                U[i, k] = 1\n",
    "            else:\n",
    "                \n",
    "                for i in range(self.n_class):\n",
    "                        U[i, k] = np.around(( ( (D_M[i, k] / D_M[:,k])** (1 / (self.m - 1) ) ).sum()) ** (-1), decimals=6)\n",
    "                    #/ D_M.sum(axis=0) ) ** (1 / (self.m - 1)) ) ** (-1)\n",
    "                \n",
    "#         for i in range(self.n_class):\n",
    "#             num_nan = np.isnan(U[i]).sum()\n",
    "#             print(\"U class {} : {}\".format(i, num_nan))\n",
    "#             sum_ = U[i].sum()\n",
    "#             print(\"U class {} : sum {}\".format(i, sum_))\n",
    "            \n",
    "        #import pdb;pdb.set_trace()    \n",
    "\n",
    "        return U\n",
    "    \n",
    "    def calc_G(self, df, U, G_ant):\n",
    "        G = np.zeros([self.n_class, self.p])\n",
    "        U_m = U ** self.m\n",
    "\n",
    "        for i in range(self.n_class):\n",
    "            \n",
    "            U_i = U_m[i, :].reshape([self.n, 1])\n",
    "            #Formula (3)\n",
    "            U_i_sum = U_i.sum()\n",
    "\n",
    "            if U_i_sum > 0.000001:\n",
    "                G[i, :] = (U_i * df).sum(axis=0) / U_i_sum\n",
    "            else:\n",
    "                G[i, :] = G_ant[i, :]\n",
    "                \n",
    "#         for i in range(self.n_class):\n",
    "#             num_nan = np.isnan(G[i]).sum()\n",
    "#             print(\"G class {} : {}\".format(i, num_nan))\n",
    "            \n",
    "        #import pdb;pdb.set_trace()   \n",
    "        \n",
    "        return G\n",
    "    \n",
    "    def calc_J(self, U, D_M):\n",
    "        U_m = U ** self.m\n",
    "        J = (U_m * D_M).sum()\n",
    "        return J\n",
    "    \n",
    "    def calc_M(self, U, df, G, M_ant):\n",
    "        U_m = U ** self.m\n",
    "        M = np.zeros([self.n_class, self.p, self.p])\n",
    "        \n",
    "        for i in range(self.n_class):\n",
    "\n",
    "            U_i = U_m[i, :].reshape([self.n, 1])\n",
    "            sum_features = (U_i*(df - G[i])**2).sum()\n",
    "            lambda_i = np.prod((U_i * (df - G[i])**2).sum(axis=0)**(1/self.p)) / sum_features \n",
    "            M_i = np.diag(lambda_i)\n",
    "            \n",
    "            if np.isnan(M_i).sum() > 0:           \n",
    "                M_i = M_ant[i]\n",
    "\n",
    "                \n",
    "                \n",
    "            M[i, :, :] = M_i\n",
    "            \n",
    "\n",
    "#         for i in range(self.n_class):\n",
    "#             num_nan = np.isnan(M[i]).sum()\n",
    "#             print(\"M class {} : {}\".format(i, num_nan))\n",
    "#             det = np.linalg.det(M[i])\n",
    "#             print(\"M class {} : det {}\".format(i, det))\n",
    " #       import pdb;pdb.set_trace()    \n",
    "\n",
    "        return M\n",
    "    \n",
    "    def calc_D_M(self, df, G, M):\n",
    "        D_M = np.zeros([self.n_class, self.n])\n",
    "        df_ = df.to_numpy()\n",
    "        for k in range(self.n):\n",
    "            for i in range(self.n_class):\n",
    "                x_k = df_[k].reshape([1,self.p])\n",
    "                g_i = G[i]\n",
    "                M_i = M[i]\n",
    "                \n",
    "                # A matriz transposta foi utilizada no ultimo termo\n",
    "                # pois o x_k já está no formato (1,p) \n",
    "                # e será feito o produto matricial com M que é no formato (p, p)\n",
    "                parcial = np.dot((x_k - g_i), M_i)\n",
    "               # D_M[i, k] = sum([ self.verify_calc_M(dif_x_g, U[:, k]) for dif_x_g in (x_k - g_i)])\n",
    "                D_M[i, k] =  np.dot(parcial, (x_k - g_i).T)\n",
    "                \n",
    "#         for i in range(self.n_class):\n",
    "#             num_nan = np.isnan(D_M[i]).sum()\n",
    "#             print(\"D_M class {} : {}\".format(i, num_nan))\n",
    "            \n",
    "        #import pdb;pdb.set_trace()    \n",
    "        return D_M"
   ]
  },
  {
   "cell_type": "markdown",
   "metadata": {},
   "source": [
    "#### Hiperparâmetros"
   ]
  },
  {
   "cell_type": "code",
   "execution_count": 11,
   "metadata": {},
   "outputs": [],
   "source": [
    "parameters = {\n",
    "    'c':[10],\n",
    "    'T':[150],\n",
    "    'epsilon':[1e-10],\n",
    "    'm':[1.1, 1.6, 2.0],\n",
    "    'rand_value_init_U': [1, 4, 10, 90]\n",
    "}"
   ]
  },
  {
   "cell_type": "markdown",
   "metadata": {},
   "source": [
    "### Busca pelos melhores parâmetros"
   ]
  },
  {
   "cell_type": "code",
   "execution_count": 12,
   "metadata": {},
   "outputs": [
    {
     "name": "stderr",
     "output_type": "stream",
     "text": [
      "\u001b[32m[I 2021-07-19 20:45:37,364]\u001b[0m A new study created in memory with name: no-name-2f26e98a-0de7-4885-9786-f706194dbbee\u001b[0m\n",
      "\u001b[32m[I 2021-07-19 20:46:25,503]\u001b[0m Trial 0 finished with value: 4.802255990060911 and parameters: {'m': 1.1, 'epsilon': 1e-10, 'T': 150, 'c': 10, 'rand_value_init_U': 10}. Best is trial 0 with value: 4.802255990060911.\u001b[0m\n",
      "\u001b[32m[I 2021-07-19 20:47:18,886]\u001b[0m Trial 1 finished with value: 0.6966511347332425 and parameters: {'m': 1.6, 'epsilon': 1e-10, 'T': 150, 'c': 10, 'rand_value_init_U': 1}. Best is trial 1 with value: 0.6966511347332425.\u001b[0m\n",
      "\u001b[32m[I 2021-07-19 20:47:42,738]\u001b[0m Trial 2 finished with value: 0.5071163613873851 and parameters: {'m': 2.0, 'epsilon': 1e-10, 'T': 150, 'c': 10, 'rand_value_init_U': 90}. Best is trial 2 with value: 0.5071163613873851.\u001b[0m\n",
      "\u001b[32m[I 2021-07-19 20:48:36,204]\u001b[0m Trial 3 finished with value: 2.347368414726568 and parameters: {'m': 1.6, 'epsilon': 1e-10, 'T': 150, 'c': 10, 'rand_value_init_U': 10}. Best is trial 2 with value: 0.5071163613873851.\u001b[0m\n",
      "\u001b[32m[I 2021-07-19 20:49:22,001]\u001b[0m Trial 4 finished with value: 0.16055133085643092 and parameters: {'m': 2.0, 'epsilon': 1e-10, 'T': 150, 'c': 10, 'rand_value_init_U': 10}. Best is trial 4 with value: 0.16055133085643092.\u001b[0m\n",
      "\u001b[32m[I 2021-07-19 20:50:07,273]\u001b[0m Trial 5 finished with value: 0.5219860843816257 and parameters: {'m': 2.0, 'epsilon': 1e-10, 'T': 150, 'c': 10, 'rand_value_init_U': 1}. Best is trial 4 with value: 0.16055133085643092.\u001b[0m\n",
      "\u001b[32m[I 2021-07-19 20:51:00,858]\u001b[0m Trial 6 finished with value: 16.214304842376745 and parameters: {'m': 1.1, 'epsilon': 1e-10, 'T': 150, 'c': 10, 'rand_value_init_U': 4}. Best is trial 4 with value: 0.16055133085643092.\u001b[0m\n",
      "\u001b[32m[I 2021-07-19 20:51:43,387]\u001b[0m Trial 7 finished with value: 1.0413724404496738 and parameters: {'m': 1.6, 'epsilon': 1e-10, 'T': 150, 'c': 10, 'rand_value_init_U': 4}. Best is trial 4 with value: 0.16055133085643092.\u001b[0m\n",
      "\u001b[32m[I 2021-07-19 20:52:32,645]\u001b[0m Trial 8 finished with value: 0.6536969249701347 and parameters: {'m': 2.0, 'epsilon': 1e-10, 'T': 150, 'c': 10, 'rand_value_init_U': 4}. Best is trial 4 with value: 0.16055133085643092.\u001b[0m\n",
      "\u001b[32m[I 2021-07-19 20:52:47,967]\u001b[0m Trial 9 finished with value: 0.766278908828324 and parameters: {'m': 1.6, 'epsilon': 1e-10, 'T': 150, 'c': 10, 'rand_value_init_U': 90}. Best is trial 4 with value: 0.16055133085643092.\u001b[0m\n",
      "\u001b[32m[I 2021-07-19 20:53:41,116]\u001b[0m Trial 10 finished with value: 16.318030928559015 and parameters: {'m': 1.1, 'epsilon': 1e-10, 'T': 150, 'c': 10, 'rand_value_init_U': 90}. Best is trial 4 with value: 0.16055133085643092.\u001b[0m\n",
      "\u001b[32m[I 2021-07-19 20:53:49,431]\u001b[0m Trial 11 finished with value: 4.831912316223931 and parameters: {'m': 1.1, 'epsilon': 1e-10, 'T': 150, 'c': 10, 'rand_value_init_U': 1}. Best is trial 4 with value: 0.16055133085643092.\u001b[0m\n"
     ]
    }
   ],
   "source": [
    "def objective(trial):\n",
    "    m = trial.suggest_float(\"m\", 1.1, 10)\n",
    "    epsilon = trial.suggest_float(\"epsilon\", 0, 1)\n",
    "    T = trial.suggest_int(\"T\", 100, 150)\n",
    "    c = trial.suggest_int(\"c\", 10, 10)\n",
    "    rand_value_init_U = trial.suggest_int(\"rand_value_init_U\", 1, 100)\n",
    "\n",
    "    model = FCM_DFCV(n_class=c, m=m, T=T, epsilon=epsilon, rand_value_init_U=rand_value_init_U)\n",
    "    model.fit(df)\n",
    "    J = model.J_best\n",
    "    \n",
    "    trial.set_user_attr(key=\"model\", value=model)\n",
    "\n",
    "    return J\n",
    "\n",
    "\n",
    "\n",
    "\n",
    "def callback(study, trial):\n",
    "    if study.best_trial.number == trial.number:\n",
    "        study.set_user_attr(\n",
    "            key=\"best_model\", value=trial.user_attrs[\"model\"]\n",
    "        )\n",
    "    \n",
    "study = optuna.create_study(sampler=optuna.samplers.GridSampler(parameters))\n",
    "study.optimize(objective, callbacks=[callback])"
   ]
  },
  {
   "cell_type": "code",
   "execution_count": 13,
   "metadata": {},
   "outputs": [],
   "source": [
    "best_model = study.user_attrs[\"best_model\"]\n",
    "\n",
    "best_params = study.best_params"
   ]
  },
  {
   "cell_type": "code",
   "execution_count": 14,
   "metadata": {},
   "outputs": [
    {
     "data": {
      "text/plain": [
       "{'m': 2.0, 'epsilon': 1e-10, 'T': 150, 'c': 10, 'rand_value_init_U': 10}"
      ]
     },
     "execution_count": 14,
     "metadata": {},
     "output_type": "execute_result"
    }
   ],
   "source": [
    "best_params"
   ]
  },
  {
   "cell_type": "code",
   "execution_count": 27,
   "metadata": {},
   "outputs": [],
   "source": [
    "U = best_model.U"
   ]
  },
  {
   "cell_type": "code",
   "execution_count": 16,
   "metadata": {},
   "outputs": [
    {
     "data": {
      "text/plain": [
       "array([1.      , 1.      , 0.999998, ..., 1.      , 1.000001, 1.      ])"
      ]
     },
     "execution_count": 16,
     "metadata": {},
     "output_type": "execute_result"
    }
   ],
   "source": [
    "U.sum(axis=0)"
   ]
  },
  {
   "cell_type": "code",
   "execution_count": 25,
   "metadata": {},
   "outputs": [],
   "source": [
    "def Partition_Coefficient(U, N):\n",
    "    return (U ** 2 / N).sum()\n",
    "\n",
    "def Modified_Partition_Coefficient(U, K, N):\n",
    "    PC = Partition_Coefficient(U, N)\n",
    "    return 1 - K/(K - 1)*(1 - PC)"
   ]
  },
  {
   "cell_type": "code",
   "execution_count": 28,
   "metadata": {},
   "outputs": [],
   "source": [
    "N = df.shape[0]\n",
    "K = 10"
   ]
  },
  {
   "cell_type": "code",
   "execution_count": 30,
   "metadata": {},
   "outputs": [
    {
     "data": {
      "text/plain": [
       "0.5050890503899528"
      ]
     },
     "execution_count": 30,
     "metadata": {},
     "output_type": "execute_result"
    }
   ],
   "source": [
    "Partition_Coefficient(U, N)"
   ]
  },
  {
   "cell_type": "code",
   "execution_count": 31,
   "metadata": {},
   "outputs": [
    {
     "data": {
      "text/plain": [
       "0.4500989448777253"
      ]
     },
     "execution_count": 31,
     "metadata": {},
     "output_type": "execute_result"
    }
   ],
   "source": [
    "Modified_Partition_Coefficient(U, K, N)"
   ]
  },
  {
   "cell_type": "code",
   "execution_count": null,
   "metadata": {},
   "outputs": [],
   "source": []
  }
 ],
 "metadata": {
  "kernelspec": {
   "display_name": "Python 3",
   "language": "python",
   "name": "python3"
  },
  "language_info": {
   "codemirror_mode": {
    "name": "ipython",
    "version": 3
   },
   "file_extension": ".py",
   "mimetype": "text/x-python",
   "name": "python",
   "nbconvert_exporter": "python",
   "pygments_lexer": "ipython3",
   "version": "3.8.3"
  }
 },
 "nbformat": 4,
 "nbformat_minor": 4
}
