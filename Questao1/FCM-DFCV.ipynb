{
 "cells": [
  {
   "cell_type": "markdown",
   "metadata": {},
   "source": [
    "## Ingestão e preparo dos dados"
   ]
  },
  {
   "cell_type": "code",
   "execution_count": 12,
   "metadata": {},
   "outputs": [],
   "source": [
    "import pandas as pd"
   ]
  },
  {
   "cell_type": "code",
   "execution_count": 13,
   "metadata": {},
   "outputs": [
    {
     "data": {
      "text/plain": [
       "<bound method NDFrame.head of       ADT1_YEAST  0.58  0.61  0.47  0.13  0.50  0.00  0.48  0.22  MIT\n",
       "0     ADT2_YEAST  0.43  0.67  0.48  0.27   0.5   0.0  0.53  0.22  MIT\n",
       "1     ADT3_YEAST  0.64  0.62  0.49  0.15   0.5   0.0  0.53  0.22  MIT\n",
       "2     AAR2_YEAST  0.58  0.44  0.57  0.13   0.5   0.0  0.54  0.22  NUC\n",
       "3     AATM_YEAST  0.42  0.44  0.48  0.54   0.5   0.0  0.48  0.22  MIT\n",
       "4     AATC_YEAST  0.51  0.40  0.56  0.17   0.5   0.5  0.49  0.22  CYT\n",
       "...          ...   ...   ...   ...   ...   ...   ...   ...   ...  ...\n",
       "1478  YUR1_YEAST  0.81  0.62  0.43  0.17   0.5   0.0  0.53  0.22  ME2\n",
       "1479  ZIP1_YEAST  0.47  0.43  0.61  0.40   0.5   0.0  0.48  0.47  NUC\n",
       "1480  ZNRP_YEAST  0.67  0.57  0.36  0.19   0.5   0.0  0.56  0.22  ME2\n",
       "1481  ZUO1_YEAST  0.43  0.40  0.60  0.16   0.5   0.0  0.53  0.39  NUC\n",
       "1482  G6PD_YEAST  0.65  0.54  0.54  0.13   0.5   0.0  0.53  0.22  CYT\n",
       "\n",
       "[1483 rows x 10 columns]>"
      ]
     },
     "execution_count": 13,
     "metadata": {},
     "output_type": "execute_result"
    }
   ],
   "source": [
    "raw_data = pd.read_csv('yeast.ssv', sep = '\\s+')\n",
    "raw_data.head"
   ]
  },
  {
   "cell_type": "markdown",
   "metadata": {},
   "source": [
    "#### Descartando os atributos categóricos:"
   ]
  },
  {
   "cell_type": "code",
   "execution_count": 14,
   "metadata": {},
   "outputs": [
    {
     "data": {
      "text/plain": [
       "<bound method NDFrame.head of       0.58  0.61  0.47  0.13  0.50  0.00  0.48  0.22\n",
       "0     0.43  0.67  0.48  0.27   0.5   0.0  0.53  0.22\n",
       "1     0.64  0.62  0.49  0.15   0.5   0.0  0.53  0.22\n",
       "2     0.58  0.44  0.57  0.13   0.5   0.0  0.54  0.22\n",
       "3     0.42  0.44  0.48  0.54   0.5   0.0  0.48  0.22\n",
       "4     0.51  0.40  0.56  0.17   0.5   0.5  0.49  0.22\n",
       "...    ...   ...   ...   ...   ...   ...   ...   ...\n",
       "1478  0.81  0.62  0.43  0.17   0.5   0.0  0.53  0.22\n",
       "1479  0.47  0.43  0.61  0.40   0.5   0.0  0.48  0.47\n",
       "1480  0.67  0.57  0.36  0.19   0.5   0.0  0.56  0.22\n",
       "1481  0.43  0.40  0.60  0.16   0.5   0.0  0.53  0.39\n",
       "1482  0.65  0.54  0.54  0.13   0.5   0.0  0.53  0.22\n",
       "\n",
       "[1483 rows x 8 columns]>"
      ]
     },
     "execution_count": 14,
     "metadata": {},
     "output_type": "execute_result"
    }
   ],
   "source": [
    "relevant_data = raw_data.iloc[:, 1:-1]\n",
    "relevant_data.head"
   ]
  },
  {
   "cell_type": "markdown",
   "metadata": {},
   "source": [
    "## O algoritmo"
   ]
  },
  {
   "cell_type": "markdown",
   "metadata": {},
   "source": [
    "#### Hiperparâmetros"
   ]
  },
  {
   "cell_type": "code",
   "execution_count": 18,
   "metadata": {},
   "outputs": [],
   "source": [
    "c=10\n",
    "T=150\n",
    "epsilon = 1e-10\n",
    "#o parâmetro m esta estranho, mandei mensagem ao professor"
   ]
  },
  {
   "cell_type": "markdown",
   "metadata": {},
   "source": [
    "#### Inicialização aleatória"
   ]
  },
  {
   "cell_type": "code",
   "execution_count": 17,
   "metadata": {},
   "outputs": [],
   "source": [
    "#TODO"
   ]
  }
 ],
 "metadata": {
  "kernelspec": {
   "display_name": "Python 3 (Spyder)",
   "language": "python3",
   "name": "python3"
  },
  "language_info": {
   "codemirror_mode": {
    "name": "ipython",
    "version": 3
   },
   "file_extension": ".py",
   "mimetype": "text/x-python",
   "name": "python",
   "nbconvert_exporter": "python",
   "pygments_lexer": "ipython3",
   "version": "3.8.5"
  }
 },
 "nbformat": 4,
 "nbformat_minor": 4
}
