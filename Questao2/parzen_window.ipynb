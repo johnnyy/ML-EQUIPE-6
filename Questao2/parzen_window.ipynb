{
  "nbformat": 4,
  "nbformat_minor": 0,
  "metadata": {
    "colab": {
      "name": "parzen_window.ipynb",
      "provenance": [],
      "collapsed_sections": []
    },
    "kernelspec": {
      "name": "python3",
      "display_name": "Python 3"
    },
    "language_info": {
      "name": "python"
    }
  },
  "cells": [
    {
      "cell_type": "code",
      "metadata": {
        "id": "iIcv9T7qZNJo"
      },
      "source": [
        "import numpy as np\n",
        "import csv\n",
        "import pandas as pd\n",
        "\n",
        "from collections import Counter\n",
        "from numpy import linalg as LA"
      ],
      "execution_count": 38,
      "outputs": []
    },
    {
      "cell_type": "code",
      "metadata": {
        "id": "sghBzLSDZM7J"
      },
      "source": [
        "with open(\"/content/drive/MyDrive/CIn/Mestrado/2021.1/Aprendizagem de Máquina/Projeto - Francisco/yeast.data\") as input_file:\n",
        "   lines = input_file.readlines()\n",
        "   newLines = []\n",
        "   for line in lines:\n",
        "      newLine = line.strip().split()\n",
        "      newLines.append(newLine)\n",
        "\n",
        "with open(\"/content/drive/MyDrive/CIn/Mestrado/2021.1/Aprendizagem de Máquina/Projeto - Francisco/yeast.csv\", 'w') as test_file:\n",
        "   file_writer = csv.writer(test_file)\n",
        "   file_writer.writerows(newLines)"
      ],
      "execution_count": 39,
      "outputs": []
    },
    {
      "cell_type": "code",
      "metadata": {
        "colab": {
          "base_uri": "https://localhost:8080/"
        },
        "id": "s02nFw4JZaNz",
        "outputId": "fd2a2289-5fe3-4932-96f0-2b8d4d318e09"
      },
      "source": [
        "# reading csv files\n",
        "data =  pd.read_csv(\"/content/drive/MyDrive/CIn/Mestrado/2021.1/Aprendizagem de Máquina/Projeto - Francisco/yeast.csv\",\n",
        "                    names=[\"sequence_name\", \"mcg\", \"gvh\", \"alm\", \"mit\", \"erl\", \"pox\", \"vac\", \"nuc\", \"protein_local\"])\n",
        "print(data)"
      ],
      "execution_count": 40,
      "outputs": [
        {
          "output_type": "stream",
          "text": [
            "     sequence_name   mcg   gvh   alm   mit  erl  pox   vac   nuc protein_local\n",
            "0       ADT1_YEAST  0.58  0.61  0.47  0.13  0.5  0.0  0.48  0.22           MIT\n",
            "1       ADT2_YEAST  0.43  0.67  0.48  0.27  0.5  0.0  0.53  0.22           MIT\n",
            "2       ADT3_YEAST  0.64  0.62  0.49  0.15  0.5  0.0  0.53  0.22           MIT\n",
            "3       AAR2_YEAST  0.58  0.44  0.57  0.13  0.5  0.0  0.54  0.22           NUC\n",
            "4       AATM_YEAST  0.42  0.44  0.48  0.54  0.5  0.0  0.48  0.22           MIT\n",
            "...            ...   ...   ...   ...   ...  ...  ...   ...   ...           ...\n",
            "1479    YUR1_YEAST  0.81  0.62  0.43  0.17  0.5  0.0  0.53  0.22           ME2\n",
            "1480    ZIP1_YEAST  0.47  0.43  0.61  0.40  0.5  0.0  0.48  0.47           NUC\n",
            "1481    ZNRP_YEAST  0.67  0.57  0.36  0.19  0.5  0.0  0.56  0.22           ME2\n",
            "1482    ZUO1_YEAST  0.43  0.40  0.60  0.16  0.5  0.0  0.53  0.39           NUC\n",
            "1483    G6PD_YEAST  0.65  0.54  0.54  0.13  0.5  0.0  0.53  0.22           CYT\n",
            "\n",
            "[1484 rows x 10 columns]\n"
          ],
          "name": "stdout"
        }
      ]
    },
    {
      "cell_type": "code",
      "metadata": {
        "id": "MLqVZQYUZdWX"
      },
      "source": [
        "X = data.iloc[:, 1:9].values\n",
        "y = data.iloc[:, 9].values"
      ],
      "execution_count": 41,
      "outputs": []
    },
    {
      "cell_type": "code",
      "metadata": {
        "id": "bCwKoS3LoKuO"
      },
      "source": [
        "def p_estimate_parzen_window(x,h,X,y):\n",
        "\n",
        "  classes = np.unique(y)\n",
        "\n",
        "  concat = np.hstack((X,np.expand_dims(y, axis=1)))\n",
        "\n",
        "  p_list = []\n",
        "\n",
        "  for i in classes:\n",
        "\n",
        "    input_values_class = concat[concat[:,-1]==i, 0:-1]\n",
        "\n",
        "    sub = (x - input_values_class)/h\n",
        "\n",
        "    cte = (1/(np.sqrt(2)*np.pi))\n",
        "\n",
        "    K = np.prod(cte*np.exp(-sub.astype(float)**2/2),axis=1)\n",
        "\n",
        "    p = sum(K)\n",
        "\n",
        "    n_i = len(sub)\n",
        "\n",
        "    d = len(sub[0])\n",
        "\n",
        "    p_list.append([i,p/(n_i*(h**d))])\n",
        "    \n",
        "    p = 0\n",
        "\n",
        "  return p_list"
      ],
      "execution_count": 47,
      "outputs": []
    },
    {
      "cell_type": "code",
      "metadata": {
        "colab": {
          "base_uri": "https://localhost:8080/"
        },
        "id": "NE1J91xewyRx",
        "outputId": "9276c8a5-77f3-45a8-970f-f365a562f84a"
      },
      "source": [
        "%%time\n",
        "\n",
        "x = np.array([0.58, 0.61, 0.47, 0.13, 0.5, 0.0, 0.48, 0.22])\n",
        "\n",
        "h = 0.1\n",
        "\n",
        "print(p_estimate_parzen_window(x,h,X,y))"
      ],
      "execution_count": 48,
      "outputs": [
        {
          "output_type": "stream",
          "text": [
            "[['CYT', 69.33238643122478], ['ERL', 1.0379210962734828e-05], ['EXC', 28.406117524693766], ['ME1', 9.938011012213677], ['ME2', 37.504110365722426], ['ME3', 47.08696448872214], ['MIT', 43.180589385501904], ['NUC', 41.83642494029781], ['POX', 30.946992539259973], ['VAC', 60.555157564944054]]\n",
            "CPU times: user 4.71 ms, sys: 4.03 ms, total: 8.75 ms\n",
            "Wall time: 13.7 ms\n"
          ],
          "name": "stdout"
        }
      ]
    },
    {
      "cell_type": "code",
      "metadata": {
        "id": "PgZyN2NQUZBk"
      },
      "source": [
        "def probability_priori(y):\n",
        "  \"\"\"return a list with each priori probability\"\"\"\n",
        "\n",
        "  pr_pb = Counter(y)\n",
        "\n",
        "  total = sum(pr_pb.values(), 0.0)\n",
        "\n",
        "  for key in pr_pb:\n",
        "    pr_pb[key] /= total  \n",
        "\n",
        "  return pr_pb"
      ],
      "execution_count": 49,
      "outputs": []
    },
    {
      "cell_type": "code",
      "metadata": {
        "id": "ugXKJ-duY-pm"
      },
      "source": [
        "class Parzen:\n",
        "    def __init__(self, h=1):\n",
        "        self.h = h\n",
        "\n",
        "    def predict(self,x,X,y):\n",
        "\n",
        "      pp = probability_priori(y)\n",
        "\n",
        "      predict_parzen = []\n",
        "\n",
        "      for x_i in x:\n",
        "\n",
        "        parzen = p_estimate_parzen_window(x_i,self.h,X,y)\n",
        "\n",
        "        parzen_probs = []\n",
        "\n",
        "        for n,i in enumerate(parzen):\n",
        "          num = pp[parzen[n][0]]*parzen[n][1]\n",
        "          den = 0\n",
        "          for k,j in enumerate(parzen):\n",
        "            den+= pp[parzen[k][0]]*parzen[k][1]\n",
        "\n",
        "          parzen_probs.append(num/den)\n",
        "\n",
        "        predict_parzen.append(parzen[parzen_probs.index(max(parzen_probs))][0])\n",
        "\n",
        "      return predict_parzen"
      ],
      "execution_count": 50,
      "outputs": []
    },
    {
      "cell_type": "code",
      "metadata": {
        "colab": {
          "base_uri": "https://localhost:8080/"
        },
        "id": "gLXTcX4aZEsU",
        "outputId": "a9fc711d-6817-4892-ea5b-e7d768789a0f"
      },
      "source": [
        "%%time\n",
        "\n",
        "a = Parzen(h=0.01)\n",
        "\n",
        "train_predict = a.predict(X[0:],X,y)"
      ],
      "execution_count": 51,
      "outputs": [
        {
          "output_type": "stream",
          "text": [
            "CPU times: user 5.15 s, sys: 12 ms, total: 5.17 s\n",
            "Wall time: 5.17 s\n"
          ],
          "name": "stdout"
        }
      ]
    },
    {
      "cell_type": "code",
      "metadata": {
        "colab": {
          "base_uri": "https://localhost:8080/"
        },
        "id": "OzIM9yJ5ZkOy",
        "outputId": "166f854c-9fb0-4d0f-f0d7-7a2ea0199573"
      },
      "source": [
        "y_train = data.iloc[:, 9].values\n",
        "\n",
        "sum([1 for n,i in enumerate(y_train) if train_predict[n] == i])/len(train_predict)"
      ],
      "execution_count": 52,
      "outputs": [
        {
          "output_type": "execute_result",
          "data": {
            "text/plain": [
              "1.0"
            ]
          },
          "metadata": {
            "tags": []
          },
          "execution_count": 52
        }
      ]
    },
    {
      "cell_type": "markdown",
      "metadata": {
        "id": "rcXTmw1VxOP4"
      },
      "source": [
        "## item a)"
      ]
    },
    {
      "cell_type": "code",
      "metadata": {
        "colab": {
          "base_uri": "https://localhost:8080/"
        },
        "id": "IY1AJptPwUDV",
        "outputId": "d6764fe0-4c08-4f19-be84-e956ae883707"
      },
      "source": [
        "from sklearn.model_selection import train_test_split\n",
        "from sklearn.metrics import accuracy_score\n",
        "from sklearn.model_selection import KFold\n",
        "\n",
        "parameter_h = []\n",
        "accuracy = []\n",
        "\n",
        "X_train, X_val, y_train, y_val = train_test_split(X, y, test_size=0.2, random_state=42)\n",
        "\n",
        "for h in np.linspace(0.01, 0.3, num=10):\n",
        "\n",
        "  parzen_classifier = Parzen(h)\n",
        "  parzen_predict = parzen_classifier.predict(X_val,X_train,y_train)\n",
        "\n",
        "  parameter_h.append([accuracy_score(y_val, parzen_predict),h])\n",
        "\n",
        "h = max(parameter_h)[1]\n",
        "\n",
        "print(\"Best h:\",h)\n",
        "\n",
        "kf = KFold(n_splits=5)\n",
        "\n",
        "for train_index, test_index in kf.split(X):\n",
        "\n",
        "  X_train, X_test = X[train_index], X[test_index]\n",
        "  y_train, y_test = y[train_index], y[test_index]\n",
        "\n",
        "  parzen_classifier = Parzen(h)\n",
        "  parzen_predict = parzen_classifier.predict(X_test,X_train,y_train)\n",
        "\n",
        "  accuracy.append(accuracy_score(y_test, parzen_predict))\n",
        "\n",
        "  print(\"accuracy: \",accuracy_score(y_test, parzen_predict))\n",
        "  \n",
        "print(\"Mean accuracy: \",sum(accuracy)/len(accuracy))"
      ],
      "execution_count": 65,
      "outputs": [
        {
          "output_type": "stream",
          "text": [
            "Best h: 0.07444444444444444\n",
            "accuracy:  0.5892255892255892\n",
            "accuracy:  0.6094276094276094\n",
            "accuracy:  0.5084175084175084\n",
            "accuracy:  0.5185185185185185\n",
            "accuracy:  0.5878378378378378\n",
            "Mean accuracy:  0.5626854126854126\n"
          ],
          "name": "stdout"
        }
      ]
    },
    {
      "cell_type": "markdown",
      "metadata": {
        "id": "HrYXFBsrc1f5"
      },
      "source": [
        "### item b)"
      ]
    },
    {
      "cell_type": "code",
      "metadata": {
        "colab": {
          "base_uri": "https://localhost:8080/",
          "height": 613
        },
        "id": "DPxQBeTyc3_6",
        "outputId": "fb0a11e2-8383-47ee-933b-c7b5de370fce"
      },
      "source": [
        "from sklearn.linear_model import LogisticRegression\n",
        "from sklearn.metrics import confusion_matrix\n",
        "from sklearn.metrics import classification_report\n",
        "import matplotlib.pyplot as plt\n",
        "\n",
        "fig, ax = plt.subplots(figsize=(10,10))\n",
        "\n",
        "cf_matrix = confusion_matrix(y_test, parzen_predict)\n",
        "\n",
        "import seaborn as sns\n",
        "\n",
        "sns.heatmap(cf_matrix, annot=True)"
      ],
      "execution_count": 69,
      "outputs": [
        {
          "output_type": "execute_result",
          "data": {
            "text/plain": [
              "<matplotlib.axes._subplots.AxesSubplot at 0x7f0472d52dd0>"
            ]
          },
          "metadata": {
            "tags": []
          },
          "execution_count": 69
        },
        {
          "output_type": "display_data",
          "data": {
            "image/png": "[encoded data removed]",
            "text/plain": [
              "<Figure size 720x720 with 2 Axes>"
            ]
          },
          "metadata": {
            "tags": [],
            "needs_background": "light"
          }
        }
      ]
    },
    {
      "cell_type": "code",
      "metadata": {
        "colab": {
          "base_uri": "https://localhost:8080/",
          "height": 609
        },
        "id": "GKgMC3XudnRl",
        "outputId": "5d7bb3ee-826d-4d6e-ebc2-c6b285af266e"
      },
      "source": [
        "fig, ax = plt.subplots(figsize=(10,10))\n",
        "\n",
        "sns.heatmap(cf_matrix/np.sum(cf_matrix), annot=True, \n",
        "            fmt='.2%', cmap='Blues')"
      ],
      "execution_count": 70,
      "outputs": [
        {
          "output_type": "execute_result",
          "data": {
            "text/plain": [
              "<matplotlib.axes._subplots.AxesSubplot at 0x7f0467de6c10>"
            ]
          },
          "metadata": {
            "tags": []
          },
          "execution_count": 70
        },
        {
          "output_type": "display_data",
          "data": {
            "image/png": "[encoded data removed]",
            "text/plain": [
              "<Figure size 720x720 with 2 Axes>"
            ]
          },
          "metadata": {
            "tags": [],
            "needs_background": "light"
          }
        }
      ]
    },
    {
      "cell_type": "code",
      "metadata": {
        "colab": {
          "base_uri": "https://localhost:8080/"
        },
        "id": "CVfnU_iMdo9Y",
        "outputId": "26dc8ac3-e61c-40d5-ac48-6b5c71855be4"
      },
      "source": [
        "print(classification_report(y_test,parzen_predict))"
      ],
      "execution_count": 72,
      "outputs": [
        {
          "output_type": "stream",
          "text": [
            "              precision    recall  f1-score   support\n",
            "\n",
            "         CYT       0.57      0.69      0.62       102\n",
            "         EXC       0.50      0.67      0.57         6\n",
            "         ME1       0.88      0.71      0.79        21\n",
            "         ME2       0.43      0.38      0.40         8\n",
            "         ME3       0.91      0.57      0.70        53\n",
            "         MIT       0.30      0.41      0.35        22\n",
            "         NUC       0.54      0.63      0.58        65\n",
            "         POX       1.00      0.50      0.67         4\n",
            "         VAC       0.00      0.00      0.00        15\n",
            "\n",
            "    accuracy                           0.59       296\n",
            "   macro avg       0.57      0.51      0.52       296\n",
            "weighted avg       0.60      0.59      0.58       296\n",
            "\n"
          ],
          "name": "stdout"
        }
      ]
    }
  ]
}