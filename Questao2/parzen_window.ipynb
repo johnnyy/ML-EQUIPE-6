{
  "nbformat": 4,
  "nbformat_minor": 0,
  "metadata": {
    "colab": {
      "name": "parzen_window.ipynb",
      "provenance": [],
      "collapsed_sections": []
    },
    "kernelspec": {
      "name": "python3",
      "display_name": "Python 3"
    },
    "language_info": {
      "name": "python"
    }
  },
  "cells": [
    {
      "cell_type": "code",
      "metadata": {
        "id": "iIcv9T7qZNJo"
      },
      "source": [
        "import numpy as np\n",
        "import csv\n",
        "import pandas as pd\n",
        "\n",
        "from collections import Counter\n",
        "from numpy import linalg as LA"
      ],
      "execution_count": 1,
      "outputs": []
    },
    {
      "cell_type": "code",
      "metadata": {
        "id": "sghBzLSDZM7J"
      },
      "source": [
        "with open(\"/content/drive/MyDrive/CIn/Mestrado/2021.1/Aprendizagem de Máquina/Projeto - Francisco/yeast.data\") as input_file:\n",
        "   lines = input_file.readlines()\n",
        "   newLines = []\n",
        "   for line in lines:\n",
        "      newLine = line.strip().split()\n",
        "      newLines.append(newLine)\n",
        "\n",
        "with open(\"/content/drive/MyDrive/CIn/Mestrado/2021.1/Aprendizagem de Máquina/Projeto - Francisco/yeast.csv\", 'w') as test_file:\n",
        "   file_writer = csv.writer(test_file)\n",
        "   file_writer.writerows(newLines)"
      ],
      "execution_count": 2,
      "outputs": []
    },
    {
      "cell_type": "code",
      "metadata": {
        "colab": {
          "base_uri": "https://localhost:8080/"
        },
        "id": "s02nFw4JZaNz",
        "outputId": "b9b71e71-76d1-420c-8bcd-cafc646c8208"
      },
      "source": [
        "# reading csv files\n",
        "data =  pd.read_csv(\"/content/drive/MyDrive/CIn/Mestrado/2021.1/Aprendizagem de Máquina/Projeto - Francisco/yeast.csv\",\n",
        "                    names=[\"sequence_name\", \"mcg\", \"gvh\", \"alm\", \"mit\", \"erl\", \"pox\", \"vac\", \"nuc\", \"protein_local\"])\n",
        "print(data)"
      ],
      "execution_count": 3,
      "outputs": [
        {
          "output_type": "stream",
          "text": [
            "     sequence_name   mcg   gvh   alm   mit  erl  pox   vac   nuc protein_local\n",
            "0       ADT1_YEAST  0.58  0.61  0.47  0.13  0.5  0.0  0.48  0.22           MIT\n",
            "1       ADT2_YEAST  0.43  0.67  0.48  0.27  0.5  0.0  0.53  0.22           MIT\n",
            "2       ADT3_YEAST  0.64  0.62  0.49  0.15  0.5  0.0  0.53  0.22           MIT\n",
            "3       AAR2_YEAST  0.58  0.44  0.57  0.13  0.5  0.0  0.54  0.22           NUC\n",
            "4       AATM_YEAST  0.42  0.44  0.48  0.54  0.5  0.0  0.48  0.22           MIT\n",
            "...            ...   ...   ...   ...   ...  ...  ...   ...   ...           ...\n",
            "1479    YUR1_YEAST  0.81  0.62  0.43  0.17  0.5  0.0  0.53  0.22           ME2\n",
            "1480    ZIP1_YEAST  0.47  0.43  0.61  0.40  0.5  0.0  0.48  0.47           NUC\n",
            "1481    ZNRP_YEAST  0.67  0.57  0.36  0.19  0.5  0.0  0.56  0.22           ME2\n",
            "1482    ZUO1_YEAST  0.43  0.40  0.60  0.16  0.5  0.0  0.53  0.39           NUC\n",
            "1483    G6PD_YEAST  0.65  0.54  0.54  0.13  0.5  0.0  0.53  0.22           CYT\n",
            "\n",
            "[1484 rows x 10 columns]\n"
          ],
          "name": "stdout"
        }
      ]
    },
    {
      "cell_type": "code",
      "metadata": {
        "id": "MLqVZQYUZdWX"
      },
      "source": [
        "X = data.iloc[:, 1:9].values\n",
        "y = data.iloc[:, 9].values"
      ],
      "execution_count": 4,
      "outputs": []
    },
    {
      "cell_type": "code",
      "metadata": {
        "id": "bCwKoS3LoKuO"
      },
      "source": [
        "def p_estimate_parzen_window(x,h,X,y):\n",
        "\n",
        "  classes = np.unique(y)\n",
        "\n",
        "  concat = np.hstack((X,np.expand_dims(y, axis=1)))\n",
        "\n",
        "  p_list = []\n",
        "\n",
        "  for i in classes:\n",
        "\n",
        "    input_values_class = concat[concat[:,-1]==i, 0:-1]\n",
        "\n",
        "    sub = (x - input_values_class)/h\n",
        "\n",
        "    cte = (1/(np.sqrt(2)*np.pi))\n",
        "\n",
        "    K = np.prod(cte*np.exp(-sub.astype(float)**2/2),axis=1)\n",
        "\n",
        "    p = sum(K)\n",
        "\n",
        "    n_i = len(sub)\n",
        "\n",
        "    d = len(sub[0])\n",
        "\n",
        "    p_list.append([i,p/(n_i*(h**d))])\n",
        "    \n",
        "    p = 0\n",
        "\n",
        "  return p_list"
      ],
      "execution_count": 5,
      "outputs": []
    },
    {
      "cell_type": "code",
      "metadata": {
        "colab": {
          "base_uri": "https://localhost:8080/"
        },
        "id": "NE1J91xewyRx",
        "outputId": "7f864349-073c-4b23-90bf-38e7e59cdd72"
      },
      "source": [
        "%%time\n",
        "\n",
        "x = np.array([0.58, 0.61, 0.47, 0.13, 0.5, 0.0, 0.48, 0.22])\n",
        "\n",
        "h = 1\n",
        "\n",
        "print(p_estimate_parzen_window(x,h,X,y))"
      ],
      "execution_count": 6,
      "outputs": [
        {
          "output_type": "stream",
          "text": [
            "[['CYT', 6.280140660870227e-06], ['ERL', 5.397616926626603e-06], ['EXC', 6.27043511851063e-06], ['ME1', 6.119770598249364e-06], ['ME2', 6.209633611172262e-06], ['ME3', 6.265602948220221e-06], ['MIT', 6.11623159802846e-06], ['NUC', 6.182587409602659e-06], ['POX', 5.432864608999617e-06], ['VAC', 6.347332583367812e-06]]\n",
            "CPU times: user 5.75 ms, sys: 2.91 ms, total: 8.66 ms\n",
            "Wall time: 9.55 ms\n"
          ],
          "name": "stdout"
        }
      ]
    },
    {
      "cell_type": "code",
      "metadata": {
        "id": "PgZyN2NQUZBk"
      },
      "source": [
        "def probability_priori(y):\n",
        "  \"\"\"return a list with each priori probability\"\"\"\n",
        "\n",
        "  pr_pb = Counter(y)\n",
        "\n",
        "  total = sum(pr_pb.values(), 0.0)\n",
        "\n",
        "  for key in pr_pb:\n",
        "    pr_pb[key] /= total  \n",
        "\n",
        "  return pr_pb"
      ],
      "execution_count": 7,
      "outputs": []
    },
    {
      "cell_type": "code",
      "metadata": {
        "id": "ugXKJ-duY-pm"
      },
      "source": [
        "class Parzen:\n",
        "    def __init__(self, h=1):\n",
        "        self.h = h\n",
        "\n",
        "    def predict(self,x,X,y):\n",
        "\n",
        "      pp = probability_priori(y)\n",
        "\n",
        "      predict_parzen = []\n",
        "\n",
        "      for x_i in x:\n",
        "\n",
        "        parzen = p_estimate_parzen_window(x_i,self.h,X,y)\n",
        "\n",
        "        parzen_probs = []\n",
        "\n",
        "        for n,i in enumerate(parzen):\n",
        "          num = pp[parzen[n][0]]*parzen[n][1]\n",
        "          den = 0\n",
        "          for k,j in enumerate(parzen):\n",
        "            den+= pp[parzen[k][0]]*parzen[k][1]\n",
        "\n",
        "          parzen_probs.append(num/den)\n",
        "\n",
        "        predict_parzen.append(parzen[parzen_probs.index(max(parzen_probs))][0])\n",
        "        #print(parzen_probs)\n",
        "\n",
        "      return predict_parzen"
      ],
      "execution_count": 8,
      "outputs": []
    },
    {
      "cell_type": "code",
      "metadata": {
        "colab": {
          "base_uri": "https://localhost:8080/"
        },
        "id": "gLXTcX4aZEsU",
        "outputId": "ef040167-af6b-4561-bcda-370c779aaa01"
      },
      "source": [
        "%%time\n",
        "\n",
        "a = Parzen(h=0.01)\n",
        "\n",
        "train_predict = a.predict(X[0:],X,y)"
      ],
      "execution_count": 9,
      "outputs": [
        {
          "output_type": "stream",
          "text": [
            "CPU times: user 4.97 s, sys: 0 ns, total: 4.97 s\n",
            "Wall time: 4.99 s\n"
          ],
          "name": "stdout"
        }
      ]
    },
    {
      "cell_type": "code",
      "metadata": {
        "colab": {
          "base_uri": "https://localhost:8080/"
        },
        "id": "OzIM9yJ5ZkOy",
        "outputId": "4cb8374b-fb6b-4b3a-a1b1-84f1d57602a9"
      },
      "source": [
        "y_train = data.iloc[:, 9].values\n",
        "\n",
        "sum([1 for n,i in enumerate(y_train) if train_predict[n] == i])/len(train_predict)"
      ],
      "execution_count": 10,
      "outputs": [
        {
          "output_type": "execute_result",
          "data": {
            "text/plain": [
              "1.0"
            ]
          },
          "metadata": {
            "tags": []
          },
          "execution_count": 10
        }
      ]
    },
    {
      "cell_type": "markdown",
      "metadata": {
        "id": "rcXTmw1VxOP4"
      },
      "source": [
        "## item a)"
      ]
    },
    {
      "cell_type": "code",
      "metadata": {
        "colab": {
          "base_uri": "https://localhost:8080/"
        },
        "id": "IY1AJptPwUDV",
        "outputId": "6119c608-1184-4f65-d9ed-05feb5112776"
      },
      "source": [
        "from sklearn.model_selection import train_test_split\n",
        "from sklearn.model_selection import StratifiedKFold\n",
        "from sklearn.preprocessing import StandardScaler\n",
        "\n",
        "skf = StratifiedKFold(n_splits=5)\n",
        "scaler = StandardScaler()\n",
        "iteration=0\n",
        "\n",
        "X = data.iloc[:, 1:9].values\n",
        "Y = data.iloc[:, 9].values\n",
        "\n",
        "for train_index, test_index in skf.split(X,Y):\n",
        "        iteration = iteration+1\n",
        "        X_train, X_test, Y_train, Y_test = X[train_index], X[test_index], Y[train_index], Y[test_index]\n",
        "        X_train, X_validation, Y_train, Y_validation = train_test_split(X, Y, test_size=0.2) #actually splitting validation, not test\n",
        "        \n",
        "        scaler.fit(X_train)\n",
        "        X_train = scaler.transform(X_train)\n",
        "        X_test = scaler.transform (X_test)\n",
        "        X_validation = scaler.transform (X_validation)\n",
        "        \n",
        "        max_acc=0\n",
        "        max_h=-1\n",
        "\n",
        "        for h in np.linspace(0.01, 0.3, num=10):\n",
        "\n",
        "            parzen_alg = Parzen(h=0.1)\n",
        "            predict_parzen = parzen_alg.predict(X_validation,X_train,Y_train)\n",
        "\n",
        "            acc = sum([1 for n,i in enumerate(Y_validation) if predict_parzen[n] == i])/len(predict_parzen)\n",
        "\n",
        "            if (acc>max_acc):\n",
        "                max_acc=acc\n",
        "                max_h=h\n",
        "\n",
        "        print(\"melhor h:\",max_h)\n",
        "                \n",
        "        X_train = np.concatenate((X_train, X_validation))\n",
        "        Y_train = np.concatenate((Y_train, Y_validation))\n",
        "\n",
        "        parzen_alg = Parzen(h-max_h)\n",
        "        predict_parzen = parzen_alg.predict(X_test,X_train,Y_train)\n",
        "\n",
        "        acc = sum([1 for n,i in enumerate(Y_test) if predict_parzen[n] == i])/len(predict_parzen)\n",
        "        print(\"Score do parzen:\", acc, \"\")"
      ],
      "execution_count": 11,
      "outputs": [
        {
          "output_type": "stream",
          "text": [
            "melhor h: 0.01\n",
            "Score do parzen: 0.9730639730639731 \n",
            "melhor h: 0.01\n",
            "Score do parzen: 0.9797979797979798 \n",
            "melhor h: 0.01\n",
            "Score do parzen: 0.9865319865319865 \n",
            "melhor h: 0.01\n",
            "Score do parzen: 0.9730639730639731 \n",
            "melhor h: 0.01\n",
            "Score do parzen: 0.9662162162162162 \n"
          ],
          "name": "stdout"
        }
      ]
    },
    {
      "cell_type": "markdown",
      "metadata": {
        "id": "HrYXFBsrc1f5"
      },
      "source": [
        "### item b)"
      ]
    },
    {
      "cell_type": "code",
      "metadata": {
        "colab": {
          "base_uri": "https://localhost:8080/",
          "height": 609
        },
        "id": "DPxQBeTyc3_6",
        "outputId": "329f829d-84f3-4dce-b7c5-999b652fb1ff"
      },
      "source": [
        "from sklearn.linear_model import LogisticRegression\n",
        "from sklearn.metrics import confusion_matrix\n",
        "from sklearn.metrics import classification_report\n",
        "import matplotlib.pyplot as plt\n",
        "\n",
        "fig, ax = plt.subplots(figsize=(10,10))\n",
        "\n",
        "cf_matrix = confusion_matrix(Y_test, predict_parzen)\n",
        "\n",
        "import seaborn as sns\n",
        "\n",
        "sns.heatmap(cf_matrix, annot=True)"
      ],
      "execution_count": 13,
      "outputs": [
        {
          "output_type": "execute_result",
          "data": {
            "text/plain": [
              "<matplotlib.axes._subplots.AxesSubplot at 0x7fe575c6eb90>"
            ]
          },
          "metadata": {
            "tags": []
          },
          "execution_count": 13
        },
        {
          "output_type": "display_data",
          "data": {
            "image/png": "[encoded data removed]",
            "text/plain": [
              "<Figure size 720x720 with 2 Axes>"
            ]
          },
          "metadata": {
            "tags": [],
            "needs_background": "light"
          }
        }
      ]
    },
    {
      "cell_type": "code",
      "metadata": {
        "colab": {
          "base_uri": "https://localhost:8080/",
          "height": 609
        },
        "id": "GKgMC3XudnRl",
        "outputId": "de63951c-bf2f-4888-f996-1c1d7f6e0b82"
      },
      "source": [
        "fig, ax = plt.subplots(figsize=(10,10))\n",
        "\n",
        "sns.heatmap(cf_matrix/np.sum(cf_matrix), annot=True, \n",
        "            fmt='.2%', cmap='Blues')"
      ],
      "execution_count": 14,
      "outputs": [
        {
          "output_type": "execute_result",
          "data": {
            "text/plain": [
              "<matplotlib.axes._subplots.AxesSubplot at 0x7fe575c737d0>"
            ]
          },
          "metadata": {
            "tags": []
          },
          "execution_count": 14
        },
        {
          "output_type": "display_data",
          "data": {
            "image/png": "[encoded data removed]",
            "text/plain": [
              "<Figure size 720x720 with 2 Axes>"
            ]
          },
          "metadata": {
            "tags": [],
            "needs_background": "light"
          }
        }
      ]
    },
    {
      "cell_type": "code",
      "metadata": {
        "colab": {
          "base_uri": "https://localhost:8080/"
        },
        "id": "CVfnU_iMdo9Y",
        "outputId": "ea112f7d-dc97-4234-94a9-7ad9984e80d0"
      },
      "source": [
        "print(classification_report(Y_test,predict_parzen))"
      ],
      "execution_count": 16,
      "outputs": [
        {
          "output_type": "stream",
          "text": [
            "              precision    recall  f1-score   support\n",
            "\n",
            "         CYT       0.90      1.00      0.95        93\n",
            "         ERL       1.00      1.00      1.00         1\n",
            "         EXC       1.00      1.00      1.00         7\n",
            "         ME1       1.00      1.00      1.00         9\n",
            "         ME2       1.00      1.00      1.00        10\n",
            "         ME3       1.00      1.00      1.00        32\n",
            "         MIT       1.00      0.96      0.98        48\n",
            "         NUC       1.00      0.94      0.97        86\n",
            "         POX       1.00      1.00      1.00         4\n",
            "         VAC       1.00      0.50      0.67         6\n",
            "\n",
            "    accuracy                           0.97       296\n",
            "   macro avg       0.99      0.94      0.96       296\n",
            "weighted avg       0.97      0.97      0.97       296\n",
            "\n"
          ],
          "name": "stdout"
        }
      ]
    }
  ]
}