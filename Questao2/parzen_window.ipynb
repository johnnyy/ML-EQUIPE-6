{
  "nbformat": 4,
  "nbformat_minor": 0,
  "metadata": {
    "colab": {
      "name": "parzen_window.ipynb",
      "provenance": [],
      "collapsed_sections": []
    },
    "kernelspec": {
      "name": "python3",
      "display_name": "Python 3"
    },
    "language_info": {
      "name": "python"
    }
  },
  "cells": [
    {
      "cell_type": "code",
      "metadata": {
        "id": "iIcv9T7qZNJo"
      },
      "source": [
        "import numpy as np\n",
        "import csv\n",
        "import pandas as pd\n",
        "\n",
        "from collections import Counter\n",
        "from numpy import linalg as LA"
      ],
      "execution_count": 86,
      "outputs": []
    },
    {
      "cell_type": "code",
      "metadata": {
        "id": "sghBzLSDZM7J"
      },
      "source": [
        "with open(\"/content/drive/MyDrive/CIn/Mestrado/2021.1/Aprendizagem de Máquina/Projeto - Francisco/yeast.data\") as input_file:\n",
        "   lines = input_file.readlines()\n",
        "   newLines = []\n",
        "   for line in lines:\n",
        "      newLine = line.strip().split()\n",
        "      newLines.append(newLine)\n",
        "\n",
        "with open(\"/content/drive/MyDrive/CIn/Mestrado/2021.1/Aprendizagem de Máquina/Projeto - Francisco/yeast.csv\", 'w') as test_file:\n",
        "   file_writer = csv.writer(test_file)\n",
        "   file_writer.writerows(newLines)"
      ],
      "execution_count": 87,
      "outputs": []
    },
    {
      "cell_type": "code",
      "metadata": {
        "colab": {
          "base_uri": "https://localhost:8080/"
        },
        "id": "s02nFw4JZaNz",
        "outputId": "ead9ad48-31a0-480c-b8ed-e7e7a1f804ed"
      },
      "source": [
        "# reading csv files\n",
        "data =  pd.read_csv(\"/content/drive/MyDrive/CIn/Mestrado/2021.1/Aprendizagem de Máquina/Projeto - Francisco/yeast.csv\",\n",
        "                    names=[\"sequence_name\", \"mcg\", \"gvh\", \"alm\", \"mit\", \"erl\", \"pox\", \"vac\", \"nuc\", \"protein_local\"])\n",
        "print(data)"
      ],
      "execution_count": 88,
      "outputs": [
        {
          "output_type": "stream",
          "text": [
            "     sequence_name   mcg   gvh   alm   mit  erl  pox   vac   nuc protein_local\n",
            "0       ADT1_YEAST  0.58  0.61  0.47  0.13  0.5  0.0  0.48  0.22           MIT\n",
            "1       ADT2_YEAST  0.43  0.67  0.48  0.27  0.5  0.0  0.53  0.22           MIT\n",
            "2       ADT3_YEAST  0.64  0.62  0.49  0.15  0.5  0.0  0.53  0.22           MIT\n",
            "3       AAR2_YEAST  0.58  0.44  0.57  0.13  0.5  0.0  0.54  0.22           NUC\n",
            "4       AATM_YEAST  0.42  0.44  0.48  0.54  0.5  0.0  0.48  0.22           MIT\n",
            "...            ...   ...   ...   ...   ...  ...  ...   ...   ...           ...\n",
            "1479    YUR1_YEAST  0.81  0.62  0.43  0.17  0.5  0.0  0.53  0.22           ME2\n",
            "1480    ZIP1_YEAST  0.47  0.43  0.61  0.40  0.5  0.0  0.48  0.47           NUC\n",
            "1481    ZNRP_YEAST  0.67  0.57  0.36  0.19  0.5  0.0  0.56  0.22           ME2\n",
            "1482    ZUO1_YEAST  0.43  0.40  0.60  0.16  0.5  0.0  0.53  0.39           NUC\n",
            "1483    G6PD_YEAST  0.65  0.54  0.54  0.13  0.5  0.0  0.53  0.22           CYT\n",
            "\n",
            "[1484 rows x 10 columns]\n"
          ],
          "name": "stdout"
        }
      ]
    },
    {
      "cell_type": "code",
      "metadata": {
        "id": "MLqVZQYUZdWX"
      },
      "source": [
        "X = data.iloc[:, 1:9].values\n",
        "y = data.iloc[:, 9].values"
      ],
      "execution_count": 89,
      "outputs": []
    },
    {
      "cell_type": "code",
      "metadata": {
        "id": "bCwKoS3LoKuO"
      },
      "source": [
        "def p_estimate_parzen_window(x,h,X,y):\n",
        "\n",
        "  classes = np.unique(y)\n",
        "\n",
        "  concat = np.hstack((X,np.expand_dims(y, axis=1)))\n",
        "\n",
        "  p_list = []\n",
        "\n",
        "  for i in classes:\n",
        "\n",
        "    input_values_class = concat[concat[:,-1]==i, 0:-1]\n",
        "\n",
        "    sub = (x - input_values_class)/h\n",
        "\n",
        "    cte = (1/(np.sqrt(2)*np.pi))\n",
        "\n",
        "    K = np.prod(cte*np.exp(-sub.astype(float)**2/2),axis=1)\n",
        "\n",
        "    p = sum(K)\n",
        "\n",
        "    n_i = len(sub)\n",
        "\n",
        "    d = len(sub[0])\n",
        "\n",
        "    p_list.append([i,p/(n_i*(h**d))])\n",
        "    \n",
        "    p = 0\n",
        "\n",
        "  return p_list"
      ],
      "execution_count": 90,
      "outputs": []
    },
    {
      "cell_type": "code",
      "metadata": {
        "colab": {
          "base_uri": "https://localhost:8080/"
        },
        "id": "NE1J91xewyRx",
        "outputId": "12659bcb-d4ab-4761-8deb-396ee3d70fc2"
      },
      "source": [
        "%%time\n",
        "\n",
        "x = np.array([0.58, 0.61, 0.47, 0.13, 0.5, 0.0, 0.48, 0.22])\n",
        "\n",
        "h = 1\n",
        "\n",
        "print(p_estimate_parzen_window(x,h,X,y))"
      ],
      "execution_count": 91,
      "outputs": [
        {
          "output_type": "stream",
          "text": [
            "[['CYT', 6.280140660870227e-06], ['ERL', 5.397616926626603e-06], ['EXC', 6.27043511851063e-06], ['ME1', 6.119770598249364e-06], ['ME2', 6.209633611172262e-06], ['ME3', 6.265602948220221e-06], ['MIT', 6.11623159802846e-06], ['NUC', 6.182587409602659e-06], ['POX', 5.432864608999617e-06], ['VAC', 6.347332583367812e-06]]\n",
            "CPU times: user 7.17 ms, sys: 56 µs, total: 7.23 ms\n",
            "Wall time: 8.92 ms\n"
          ],
          "name": "stdout"
        }
      ]
    },
    {
      "cell_type": "code",
      "metadata": {
        "id": "PgZyN2NQUZBk"
      },
      "source": [
        "def probability_priori(y):\n",
        "  \"\"\"return a list with each priori probability\"\"\"\n",
        "\n",
        "  pr_pb = Counter(y)\n",
        "\n",
        "  total = sum(pr_pb.values(), 0.0)\n",
        "\n",
        "  for key in pr_pb:\n",
        "    pr_pb[key] /= total  \n",
        "\n",
        "  return pr_pb"
      ],
      "execution_count": 92,
      "outputs": []
    },
    {
      "cell_type": "code",
      "metadata": {
        "id": "ugXKJ-duY-pm"
      },
      "source": [
        "class Parzen:\n",
        "    def __init__(self, h=1):\n",
        "        self.h = h\n",
        "\n",
        "    def predict(self,x,X,y):\n",
        "\n",
        "      pp = probability_priori(y)\n",
        "\n",
        "      predict_parzen = []\n",
        "\n",
        "      for x_i in x:\n",
        "\n",
        "        parzen = p_estimate_parzen_window(x_i,self.h,X,y)\n",
        "\n",
        "        parzen_probs = []\n",
        "\n",
        "        for n,i in enumerate(parzen):\n",
        "          num = pp[parzen[n][0]]*parzen[n][1]\n",
        "          den = 0\n",
        "          for k,j in enumerate(parzen):\n",
        "            den+= pp[parzen[k][0]]*parzen[k][1]\n",
        "\n",
        "          parzen_probs.append(num/den)\n",
        "\n",
        "        predict_parzen.append(parzen[parzen_probs.index(max(parzen_probs))][0])\n",
        "        #print(parzen_probs)\n",
        "\n",
        "      return predict_parzen"
      ],
      "execution_count": 93,
      "outputs": []
    },
    {
      "cell_type": "code",
      "metadata": {
        "colab": {
          "base_uri": "https://localhost:8080/"
        },
        "id": "gLXTcX4aZEsU",
        "outputId": "6de7277f-76db-4483-8ce1-5c3e4fe10bbe"
      },
      "source": [
        "%%time\n",
        "\n",
        "a = Parzen(h=0.01)\n",
        "\n",
        "train_predict = a.predict(X[0:],X,y)"
      ],
      "execution_count": 94,
      "outputs": [
        {
          "output_type": "stream",
          "text": [
            "CPU times: user 5.01 s, sys: 12.1 ms, total: 5.02 s\n",
            "Wall time: 5.03 s\n"
          ],
          "name": "stdout"
        }
      ]
    },
    {
      "cell_type": "code",
      "metadata": {
        "colab": {
          "base_uri": "https://localhost:8080/"
        },
        "id": "OzIM9yJ5ZkOy",
        "outputId": "afd9739c-5396-4ca7-bc9c-31890730e7e6"
      },
      "source": [
        "y_train = data.iloc[:, 9].values\n",
        "\n",
        "sum([1 for n,i in enumerate(y_train) if train_predict[n] == i])/len(train_predict)"
      ],
      "execution_count": 95,
      "outputs": [
        {
          "output_type": "execute_result",
          "data": {
            "text/plain": [
              "1.0"
            ]
          },
          "metadata": {
            "tags": []
          },
          "execution_count": 95
        }
      ]
    },
    {
      "cell_type": "markdown",
      "metadata": {
        "id": "rcXTmw1VxOP4"
      },
      "source": [
        "## item a)"
      ]
    },
    {
      "cell_type": "code",
      "metadata": {
        "colab": {
          "base_uri": "https://localhost:8080/"
        },
        "id": "IY1AJptPwUDV",
        "outputId": "66205ac6-2141-4619-ed84-5490bfee8181"
      },
      "source": [
        "from sklearn.model_selection import train_test_split\n",
        "from sklearn.model_selection import StratifiedKFold\n",
        "from sklearn.preprocessing import StandardScaler\n",
        "\n",
        "skf = StratifiedKFold(n_splits=5)\n",
        "scaler = StandardScaler()\n",
        "iteration=0\n",
        "\n",
        "X = data.iloc[:, 1:9].values\n",
        "Y = data.iloc[:, 9].values\n",
        "\n",
        "for train_index, test_index in skf.split(X,Y):\n",
        "        iteration = iteration+1\n",
        "        X_train, X_test, Y_train, Y_test = X[train_index], X[test_index], Y[train_index], Y[test_index]\n",
        "        X_train, X_validation, Y_train, Y_validation = train_test_split(X, Y, test_size=0.2) #actually splitting validation, not test\n",
        "        \n",
        "        scaler.fit(X_train)\n",
        "        X_train = scaler.transform(X_train)\n",
        "        X_test = scaler.transform (X_test)\n",
        "        X_validation = scaler.transform (X_validation)\n",
        "        \n",
        "        max_acc=0\n",
        "        max_h=-1\n",
        "\n",
        "        for h in np.linspace(0.01, 0.3, num=10):\n",
        "\n",
        "            parzen_alg = Parzen(h=0.1)\n",
        "            predict_parzen = parzen_alg.predict(X_validation,X_train,Y_train)\n",
        "\n",
        "            acc = sum([1 for n,i in enumerate(Y_validation) if predict_parzen[n] == i])/len(predict_parzen)\n",
        "\n",
        "            if (acc>max_acc):\n",
        "                max_acc=acc\n",
        "                max_h=h\n",
        "\n",
        "        print(\"melhor h:\",max_h)\n",
        "                \n",
        "        X_train = np.concatenate((X_train, X_validation))\n",
        "        Y_train = np.concatenate((Y_train, Y_validation))\n",
        "\n",
        "        parzen_alg = Parzen(h-max_h)\n",
        "        predict_parzen = parzen_alg.predict(X_test,X_train,Y_train)\n",
        "\n",
        "        acc = sum([1 for n,i in enumerate(Y_test) if predict_parzen[n] == i])/len(predict_parzen)\n",
        "        print(\"Score do parzen:\", acc, \"\")"
      ],
      "execution_count": 96,
      "outputs": [
        {
          "output_type": "stream",
          "text": [
            "melhor h: 0.01\n",
            "Score do parzen: 0.9764309764309764 \n"
          ],
          "name": "stdout"
        },
        {
          "output_type": "stream",
          "text": [
            "/usr/local/lib/python3.7/dist-packages/ipykernel_launcher.py:23: RuntimeWarning: invalid value encountered in double_scalars\n"
          ],
          "name": "stderr"
        },
        {
          "output_type": "stream",
          "text": [
            "melhor h: 0.01\n",
            "Score do parzen: 0.98989898989899 \n",
            "melhor h: 0.01\n",
            "Score do parzen: 0.9865319865319865 \n",
            "melhor h: 0.01\n",
            "Score do parzen: 0.9764309764309764 \n",
            "melhor h: 0.01\n",
            "Score do parzen: 0.9662162162162162 \n"
          ],
          "name": "stdout"
        }
      ]
    }
  ]
}