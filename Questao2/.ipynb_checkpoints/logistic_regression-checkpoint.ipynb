{
 "cells": [
  {
   "cell_type": "code",
   "execution_count": 1,
   "metadata": {},
   "outputs": [],
   "source": [
    "import pandas as pd\n",
    "import numpy as np"
   ]
  },
  {
   "cell_type": "code",
   "execution_count": 2,
   "metadata": {},
   "outputs": [],
   "source": [
    "raw_data = pd.read_csv('yeast.ssv', sep='\\s+')\n",
    "raw_data.head\n",
    "X = raw_data.iloc[:, 1:-1].to_numpy()\n",
    "Y = raw_data.iloc[:, -1].to_numpy()\n"
   ]
  },
  {
   "cell_type": "code",
   "execution_count": 11,
   "metadata": {},
   "outputs": [
    {
     "name": "stdout",
     "output_type": "stream",
     "text": [
      "0.5724656474656474 0.019974066005353713\n"
     ]
    },
    {
     "data": {
      "text/plain": [
       "'\\niteration=0\\nfor train_index, test_index in skf.split(X,Y):\\n        \\n        iteration = iteration+1\\n        X_train, X_test, Y_train, Y_test = X[train_index], X[test_index], Y[train_index], Y[test_index]\\n                \\n        scaler.fit(X_train)\\n        X_train = scaler.transform(X_train)\\n        X_test = scaler.transform (X_test)\\n                \\n        log_regression = OneVsRestClassifier(LogisticRegression())\\n        \\n        log_regression.fit(X_train, Y_train)\\n        \\n        print(\"Score da regressão logística um contra todos:\", log_regression.score(X_test, Y_test), \"\")\\n'"
      ]
     },
     "execution_count": 11,
     "metadata": {},
     "output_type": "execute_result"
    }
   ],
   "source": [
    "from sklearn.model_selection import train_test_split\n",
    "from sklearn.model_selection import StratifiedKFold\n",
    "from sklearn.preprocessing import StandardScaler\n",
    "from sklearn.linear_model import LogisticRegression\n",
    "from sklearn.multiclass import OneVsRestClassifier\n",
    "from sklearn.model_selection import cross_val_score\n",
    "from sklearn.pipeline import make_pipeline\n",
    "\n",
    "skf = StratifiedKFold(n_splits=5, random_state=None, shuffle=False)\n",
    "scaler = StandardScaler()\n",
    "log_regression = OneVsRestClassifier(LogisticRegression())\n",
    "clf = make_pipeline(scaler, log_regression)\n",
    "scores = cross_val_score(clf, X, Y, cv=skf)\n",
    "print(scores.mean(), scores.std())\n",
    "\n",
    "'''\n",
    "iteration=0\n",
    "for train_index, test_index in skf.split(X,Y):\n",
    "        \n",
    "        iteration = iteration+1\n",
    "        X_train, X_test, Y_train, Y_test = X[train_index], X[test_index], Y[train_index], Y[test_index]\n",
    "                \n",
    "        scaler.fit(X_train)\n",
    "        X_train = scaler.transform(X_train)\n",
    "        X_test = scaler.transform (X_test)\n",
    "                \n",
    "        log_regression = OneVsRestClassifier(LogisticRegression())\n",
    "        \n",
    "        log_regression.fit(X_train, Y_train)\n",
    "        \n",
    "        print(\"Score da regressão logística um contra todos:\", log_regression.score(X_test, Y_test), \"\")\n",
    "'''"
   ]
  }
 ],
 "metadata": {
  "kernelspec": {
   "display_name": "Python 3 (Spyder)",
   "language": "python3",
   "name": "python3"
  },
  "language_info": {
   "codemirror_mode": {
    "name": "ipython",
    "version": 3
   },
   "file_extension": ".py",
   "mimetype": "text/x-python",
   "name": "python",
   "nbconvert_exporter": "python",
   "pygments_lexer": "ipython3",
   "version": "3.8.5"
  }
 },
 "nbformat": 4,
 "nbformat_minor": 4
}
