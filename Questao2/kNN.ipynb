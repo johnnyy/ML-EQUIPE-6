{
 "cells": [
  {
   "cell_type": "code",
   "execution_count": 3,
   "metadata": {},
   "outputs": [],
   "source": [
    "import pandas as pd\n",
    "import numpy as np"
   ]
  },
  {
   "cell_type": "code",
   "execution_count": 4,
   "metadata": {},
   "outputs": [
    {
     "data": {
      "text/plain": [
       "<bound method NDFrame.head of      sequence_name   mcg   gvh   alm   mit  erl  pox   vac   nuc protein_local\n",
       "0       ADT1_YEAST  0.58  0.61  0.47  0.13  0.5  0.0  0.48  0.22           MIT\n",
       "1       ADT2_YEAST  0.43  0.67  0.48  0.27  0.5  0.0  0.53  0.22           MIT\n",
       "2       ADT3_YEAST  0.64  0.62  0.49  0.15  0.5  0.0  0.53  0.22           MIT\n",
       "3       AAR2_YEAST  0.58  0.44  0.57  0.13  0.5  0.0  0.54  0.22           NUC\n",
       "4       AATM_YEAST  0.42  0.44  0.48  0.54  0.5  0.0  0.48  0.22           MIT\n",
       "...            ...   ...   ...   ...   ...  ...  ...   ...   ...           ...\n",
       "1479    YUR1_YEAST  0.81  0.62  0.43  0.17  0.5  0.0  0.53  0.22           ME2\n",
       "1480    ZIP1_YEAST  0.47  0.43  0.61  0.40  0.5  0.0  0.48  0.47           NUC\n",
       "1481    ZNRP_YEAST  0.67  0.57  0.36  0.19  0.5  0.0  0.56  0.22           ME2\n",
       "1482    ZUO1_YEAST  0.43  0.40  0.60  0.16  0.5  0.0  0.53  0.39           NUC\n",
       "1483    G6PD_YEAST  0.65  0.54  0.54  0.13  0.5  0.0  0.53  0.22           CYT\n",
       "\n",
       "[1484 rows x 10 columns]>"
      ]
     },
     "execution_count": 4,
     "metadata": {},
     "output_type": "execute_result"
    }
   ],
   "source": [
    "raw_data = pd.read_csv('yeast.ssv', sep='\\s+',\n",
    "                    names=[\"sequence_name\", \"mcg\", \"gvh\", \"alm\", \"mit\", \"erl\", \"pox\", \"vac\", \"nuc\", \"protein_local\"])\n",
    "raw_data.head"
   ]
  },
  {
   "cell_type": "code",
   "execution_count": 5,
   "metadata": {},
   "outputs": [
    {
     "data": {
      "text/plain": [
       "array([[0.58, 0.61, 0.47, ..., 0.  , 0.48, 0.22],\n",
       "       [0.43, 0.67, 0.48, ..., 0.  , 0.53, 0.22],\n",
       "       [0.64, 0.62, 0.49, ..., 0.  , 0.53, 0.22],\n",
       "       ...,\n",
       "       [0.67, 0.57, 0.36, ..., 0.  , 0.56, 0.22],\n",
       "       [0.43, 0.4 , 0.6 , ..., 0.  , 0.53, 0.39],\n",
       "       [0.65, 0.54, 0.54, ..., 0.  , 0.53, 0.22]])"
      ]
     },
     "execution_count": 5,
     "metadata": {},
     "output_type": "execute_result"
    }
   ],
   "source": [
    "X = raw_data.iloc[:, 1:-1].to_numpy()\n",
    "X"
   ]
  },
  {
   "cell_type": "code",
   "execution_count": 6,
   "metadata": {},
   "outputs": [
    {
     "data": {
      "text/plain": [
       "array(['MIT', 'MIT', 'MIT', ..., 'ME2', 'NUC', 'CYT'], dtype=object)"
      ]
     },
     "execution_count": 6,
     "metadata": {},
     "output_type": "execute_result"
    }
   ],
   "source": [
    "y = raw_data.iloc[:, -1].to_numpy()\n",
    "y"
   ]
  },
  {
   "cell_type": "code",
   "execution_count": 8,
   "metadata": {},
   "outputs": [
    {
     "name": "stdout",
     "output_type": "stream",
     "text": [
      "F1_macro; mean is: 0.5163793726546485, deviation is:0.06349570529567317\n",
      "Accuracy; mean is: 0.5727818727818728, deviation is:0.02575678124267269\n",
      "Precision_micro; mean is: 0.5727818727818728, deviation is:0.02575678124267269\n",
      "Recall_macro; mean is: 0.5242628683664616, deviation is:0.07177279178446955\n",
      "{'knn__n_neighbors': 9}\n",
      "{'knn__n_neighbors': 12}\n",
      "{'knn__n_neighbors': 14}\n",
      "{'knn__n_neighbors': 18}\n",
      "{'knn__n_neighbors': 14}\n"
     ]
    }
   ],
   "source": [
    "from sklearn.model_selection import train_test_split\n",
    "from sklearn.model_selection import StratifiedKFold\n",
    "from sklearn.model_selection import KFold\n",
    "from sklearn.preprocessing import StandardScaler\n",
    "from sklearn.neighbors import KNeighborsClassifier\n",
    "from sklearn.model_selection import cross_validate\n",
    "from sklearn.pipeline import Pipeline\n",
    "from sklearn.model_selection import GridSearchCV\n",
    "from sklearn.metrics import recall_score\n",
    "\n",
    "inner_kf = KFold(n_splits=5)\n",
    "outer_skf = StratifiedKFold(n_splits=5)\n",
    "scaler = StandardScaler()\n",
    "p_grid = {\"knn__n_neighbors\":range(2, 40, 1)}\n",
    "knn = KNeighborsClassifier()\n",
    "pipe = Pipeline(steps=[('scaler',scaler), ('knn', knn)])\n",
    "clf=GridSearchCV(estimator=pipe, param_grid=p_grid, cv=inner_kf)\n",
    "scoring = ['accuracy', 'f1_macro', 'recall_macro', 'precision_micro']\n",
    "scores = cross_validate(clf, X=X, y=y, cv=outer_skf, scoring=scoring, return_estimator=True)\n",
    "\n",
    "print(\"F1_macro; mean is: {}, deviation is:{}\".format(scores['test_f1_macro'].mean(), scores['test_f1_macro'].std()))\n",
    "print(\"Accuracy; mean is: {}, deviation is:{}\".format(scores['test_accuracy'].mean(), scores['test_accuracy'].std()))\n",
    "print(\"Precision_micro; mean is: {}, deviation is:{}\".format(scores['test_precision_micro'].mean(), scores['test_precision_micro'].std()))\n",
    "print(\"Recall_macro; mean is: {}, deviation is:{}\".format(scores['test_recall_macro'].mean(), scores['test_recall_macro'].std()))\n",
    "\n",
    "for estimator in scores['estimator']:\n",
    "    print(estimator.best_params_)"
   ]
  }
 ],
 "metadata": {
  "kernelspec": {
   "display_name": "Python 3 (Spyder)",
   "language": "python3",
   "name": "python3"
  },
  "language_info": {
   "codemirror_mode": {
    "name": "ipython",
    "version": 3
   },
   "file_extension": ".py",
   "mimetype": "text/x-python",
   "name": "python",
   "nbconvert_exporter": "python",
   "pygments_lexer": "ipython3",
   "version": "3.8.5"
  }
 },
 "nbformat": 4,
 "nbformat_minor": 4
}
