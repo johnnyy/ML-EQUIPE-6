{
 "cells": [
  {
   "cell_type": "code",
   "execution_count": 1,
   "metadata": {},
   "outputs": [],
   "source": [
    "import pandas as pd\n",
    "import numpy as np"
   ]
  },
  {
   "cell_type": "code",
   "execution_count": 2,
   "metadata": {},
   "outputs": [
    {
     "data": {
      "text/plain": [
       "<bound method NDFrame.head of       ADT1_YEAST  0.58  0.61  0.47  0.13  0.50  0.00  0.48  0.22  MIT\n",
       "0     ADT2_YEAST  0.43  0.67  0.48  0.27   0.5   0.0  0.53  0.22  MIT\n",
       "1     ADT3_YEAST  0.64  0.62  0.49  0.15   0.5   0.0  0.53  0.22  MIT\n",
       "2     AAR2_YEAST  0.58  0.44  0.57  0.13   0.5   0.0  0.54  0.22  NUC\n",
       "3     AATM_YEAST  0.42  0.44  0.48  0.54   0.5   0.0  0.48  0.22  MIT\n",
       "4     AATC_YEAST  0.51  0.40  0.56  0.17   0.5   0.5  0.49  0.22  CYT\n",
       "...          ...   ...   ...   ...   ...   ...   ...   ...   ...  ...\n",
       "1478  YUR1_YEAST  0.81  0.62  0.43  0.17   0.5   0.0  0.53  0.22  ME2\n",
       "1479  ZIP1_YEAST  0.47  0.43  0.61  0.40   0.5   0.0  0.48  0.47  NUC\n",
       "1480  ZNRP_YEAST  0.67  0.57  0.36  0.19   0.5   0.0  0.56  0.22  ME2\n",
       "1481  ZUO1_YEAST  0.43  0.40  0.60  0.16   0.5   0.0  0.53  0.39  NUC\n",
       "1482  G6PD_YEAST  0.65  0.54  0.54  0.13   0.5   0.0  0.53  0.22  CYT\n",
       "\n",
       "[1483 rows x 10 columns]>"
      ]
     },
     "execution_count": 2,
     "metadata": {},
     "output_type": "execute_result"
    }
   ],
   "source": [
    "raw_data = pd.read_csv('yeast.ssv', sep='\\s+')\n",
    "raw_data.head"
   ]
  },
  {
   "cell_type": "code",
   "execution_count": 3,
   "metadata": {},
   "outputs": [
    {
     "data": {
      "text/plain": [
       "array([[0.43, 0.67, 0.48, ..., 0.  , 0.53, 0.22],\n",
       "       [0.64, 0.62, 0.49, ..., 0.  , 0.53, 0.22],\n",
       "       [0.58, 0.44, 0.57, ..., 0.  , 0.54, 0.22],\n",
       "       ...,\n",
       "       [0.67, 0.57, 0.36, ..., 0.  , 0.56, 0.22],\n",
       "       [0.43, 0.4 , 0.6 , ..., 0.  , 0.53, 0.39],\n",
       "       [0.65, 0.54, 0.54, ..., 0.  , 0.53, 0.22]])"
      ]
     },
     "execution_count": 3,
     "metadata": {},
     "output_type": "execute_result"
    }
   ],
   "source": [
    "X = raw_data.iloc[:, 1:-1].to_numpy()\n",
    "X"
   ]
  },
  {
   "cell_type": "code",
   "execution_count": 4,
   "metadata": {},
   "outputs": [
    {
     "data": {
      "text/plain": [
       "array(['MIT', 'MIT', 'NUC', ..., 'ME2', 'NUC', 'CYT'], dtype=object)"
      ]
     },
     "execution_count": 4,
     "metadata": {},
     "output_type": "execute_result"
    }
   ],
   "source": [
    "Y = raw_data.iloc[:, -1].to_numpy()\n",
    "Y"
   ]
  },
  {
   "cell_type": "code",
   "execution_count": 5,
   "metadata": {},
   "outputs": [
    {
     "name": "stdout",
     "output_type": "stream",
     "text": [
      "melhor k: 13\n",
      "Score do knn: 0.6868686868686869 \n",
      "melhor k: 15\n",
      "Score do knn: 0.632996632996633 \n",
      "melhor k: 13\n",
      "Score do knn: 0.6666666666666666 \n",
      "melhor k: 7\n",
      "Score do knn: 0.6655405405405406 \n",
      "melhor k: 15\n",
      "Score do knn: 0.625 \n"
     ]
    }
   ],
   "source": [
    "from sklearn.model_selection import train_test_split\n",
    "from sklearn.model_selection import StratifiedKFold\n",
    "from sklearn.preprocessing import StandardScaler\n",
    "from sklearn.neighbors import KNeighborsClassifier\n",
    "skf = StratifiedKFold(n_splits=5)\n",
    "scaler = StandardScaler()\n",
    "iteration=0\n",
    "for train_index, test_index in skf.split(X,Y):\n",
    "        iteration = iteration+1\n",
    "        X_train, X_test, Y_train, Y_test = X[train_index], X[test_index], Y[train_index], Y[test_index]\n",
    "        X_train, X_validation, Y_train, Y_validation = train_test_split(X, Y, test_size=0.2) #actually splitting validation, not test\n",
    "        \n",
    "        scaler.fit(X_train)\n",
    "        X_train = scaler.transform(X_train)\n",
    "        X_test = scaler.transform (X_test)\n",
    "        X_validation = scaler.transform (X_validation)\n",
    "        \n",
    "        max_acc=0\n",
    "        max_k=-1\n",
    "        for k in range(2, 16):\n",
    "            knn = KNeighborsClassifier(n_neighbors=k)\n",
    "            knn.fit(X_train, Y_train)\n",
    "            acc = knn.score(X_validation, Y_validation)\n",
    "            if (acc>max_acc):\n",
    "                max_acc=acc\n",
    "                max_k=k\n",
    "        print(\"melhor k:\",max_k)\n",
    "                \n",
    "        X_train = np.concatenate((X_train, X_validation))\n",
    "        Y_train = np.concatenate((Y_train, Y_validation))\n",
    "        knn = KNeighborsClassifier(n_neighbors=max_k)\n",
    "        knn.fit(X_train, Y_train)\n",
    "        print(\"Score do knn:\", knn.score(X_test, Y_test), \"\")"
   ]
  }
 ],
 "metadata": {
  "kernelspec": {
   "display_name": "Python 3 (Spyder)",
   "language": "python3",
   "name": "python3"
  },
  "language_info": {
   "codemirror_mode": {
    "name": "ipython",
    "version": 3
   },
   "file_extension": ".py",
   "mimetype": "text/x-python",
   "name": "python",
   "nbconvert_exporter": "python",
   "pygments_lexer": "ipython3",
   "version": "3.8.5"
  }
 },
 "nbformat": 4,
 "nbformat_minor": 4
}
