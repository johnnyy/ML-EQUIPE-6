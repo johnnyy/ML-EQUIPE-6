{
 "cells": [
  {
   "cell_type": "code",
   "execution_count": 1,
   "metadata": {},
   "outputs": [],
   "source": [
    "import pandas as pd\n",
    "import numpy as np"
   ]
  },
  {
   "cell_type": "code",
   "execution_count": 2,
   "metadata": {},
   "outputs": [
    {
     "ename": "FileNotFoundError",
     "evalue": "[Errno 2] No such file or directory: 'yeast.ssv'",
     "output_type": "error",
     "traceback": [
      "Traceback \u001b[1;36m(most recent call last)\u001b[0m:\n",
      "  File \u001b[0;32m\"<ipython-input-2-6f44f8a000cc>\"\u001b[0m, line \u001b[0;32m1\u001b[0m, in \u001b[0;35m<module>\u001b[0m\n    raw_data = pd.read_csv('yeast.ssv', sep='\\s+')\n",
      "  File \u001b[0;32m\"C:\\Users\\hrodr\\anaconda3\\lib\\site-packages\\pandas\\io\\parsers.py\"\u001b[0m, line \u001b[0;32m686\u001b[0m, in \u001b[0;35mread_csv\u001b[0m\n    return _read(filepath_or_buffer, kwds)\n",
      "  File \u001b[0;32m\"C:\\Users\\hrodr\\anaconda3\\lib\\site-packages\\pandas\\io\\parsers.py\"\u001b[0m, line \u001b[0;32m452\u001b[0m, in \u001b[0;35m_read\u001b[0m\n    parser = TextFileReader(fp_or_buf, **kwds)\n",
      "  File \u001b[0;32m\"C:\\Users\\hrodr\\anaconda3\\lib\\site-packages\\pandas\\io\\parsers.py\"\u001b[0m, line \u001b[0;32m946\u001b[0m, in \u001b[0;35m__init__\u001b[0m\n    self._make_engine(self.engine)\n",
      "  File \u001b[0;32m\"C:\\Users\\hrodr\\anaconda3\\lib\\site-packages\\pandas\\io\\parsers.py\"\u001b[0m, line \u001b[0;32m1178\u001b[0m, in \u001b[0;35m_make_engine\u001b[0m\n    self._engine = CParserWrapper(self.f, **self.options)\n",
      "  File \u001b[0;32m\"C:\\Users\\hrodr\\anaconda3\\lib\\site-packages\\pandas\\io\\parsers.py\"\u001b[0m, line \u001b[0;32m2008\u001b[0m, in \u001b[0;35m__init__\u001b[0m\n    self._reader = parsers.TextReader(src, **kwds)\n",
      "  File \u001b[0;32m\"pandas\\_libs\\parsers.pyx\"\u001b[0m, line \u001b[0;32m382\u001b[0m, in \u001b[0;35mpandas._libs.parsers.TextReader.__cinit__\u001b[0m\n",
      "\u001b[1;36m  File \u001b[1;32m\"pandas\\_libs\\parsers.pyx\"\u001b[1;36m, line \u001b[1;32m674\u001b[1;36m, in \u001b[1;35mpandas._libs.parsers.TextReader._setup_parser_source\u001b[1;36m\u001b[0m\n",
      "\u001b[1;31mFileNotFoundError\u001b[0m\u001b[1;31m:\u001b[0m [Errno 2] No such file or directory: 'yeast.ssv'\n"
     ]
    }
   ],
   "source": [
    "raw_data = pd.read_csv('yeast.ssv', sep='\\s+')\n",
    "raw_data.head"
   ]
  },
  {
   "cell_type": "code",
   "execution_count": null,
   "metadata": {},
   "outputs": [],
   "source": [
    "X = raw_data.iloc[:, 1:-1].to_numpy()\n",
    "X"
   ]
  },
  {
   "cell_type": "code",
   "execution_count": null,
   "metadata": {},
   "outputs": [],
   "source": [
    "Y = raw_data.iloc[:, -1].to_numpy()\n",
    "Y"
   ]
  },
  {
   "cell_type": "code",
   "execution_count": null,
   "metadata": {},
   "outputs": [],
   "source": [
    "from sklearn.model_selection import train_test_split\n",
    "from sklearn.model_selection import StratifiedKFold\n",
    "from sklearn.preprocessing import StandardScaler\n",
    "from sklearn.neighbors import KNeighborsClassifier\n",
    "skf = StratifiedKFold(n_splits=5)\n",
    "scaler = StandardScaler()\n",
    "iteration=0\n",
    "for train_index, test_index in skf.split(X,Y):\n",
    "        iteration = iteration+1\n",
    "        X_train, X_test, Y_train, Y_test = X[train_index], X[test_index], Y[train_index], Y[test_index]\n",
    "        X_train, X_validation, Y_train, Y_validation = train_test_split(X_train, Y_train, test_size=0.2) #actually splitting validation, not test\n",
    "        \n",
    "        scaler.fit(X_train)\n",
    "        X_train = scaler.transform(X_train)\n",
    "        X_test = scaler.transform (X_test)\n",
    "        X_validation = scaler.transform (X_validation)\n",
    "        \n",
    "        max_acc=0\n",
    "        max_k=-1\n",
    "        for k in range(2, 16):\n",
    "            knn = KNeighborsClassifier(n_neighbors=k)\n",
    "            knn.fit(X_train, Y_train)\n",
    "            acc = knn.score(X_validation, Y_validation)\n",
    "            if (acc>max_acc):\n",
    "                max_acc=acc\n",
    "                max_k=k\n",
    "        print(\"melhor k:\",max_k)\n",
    "                \n",
    "        X_train = np.concatenate((X_train, X_validation))\n",
    "        Y_train = np.concatenate((Y_train, Y_validation))\n",
    "        knn = KNeighborsClassifier(n_neighbors=max_k)\n",
    "        knn.fit(X_train, Y_train)\n",
    "        print(\"Score do knn:\", knn.score(X_test, Y_test), \"\")"
   ]
  }
 ],
 "metadata": {
  "kernelspec": {
   "display_name": "Python 3 (Spyder)",
   "language": "python3",
   "name": "python3"
  },
  "language_info": {
   "codemirror_mode": {
    "name": "ipython",
    "version": 3
   },
   "file_extension": ".py",
   "mimetype": "text/x-python",
   "name": "python",
   "nbconvert_exporter": "python",
   "pygments_lexer": "ipython3",
   "version": "3.8.5"
  }
 },
 "nbformat": 4,
 "nbformat_minor": 4
}
