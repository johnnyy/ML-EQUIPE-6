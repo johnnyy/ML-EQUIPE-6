{
 "cells": [
  {
   "cell_type": "code",
   "execution_count": 1,
   "metadata": {},
   "outputs": [],
   "source": [
    "import pandas as pd\n",
    "import numpy as np"
   ]
  },
  {
   "cell_type": "code",
   "execution_count": 2,
   "metadata": {},
   "outputs": [
    {
     "data": {
      "text/plain": [
       "<bound method NDFrame.head of       ADT1_YEAST  0.58  0.61  0.47  0.13  0.50  0.00  0.48  0.22  MIT\n",
       "0     ADT2_YEAST  0.43  0.67  0.48  0.27   0.5   0.0  0.53  0.22  MIT\n",
       "1     ADT3_YEAST  0.64  0.62  0.49  0.15   0.5   0.0  0.53  0.22  MIT\n",
       "2     AAR2_YEAST  0.58  0.44  0.57  0.13   0.5   0.0  0.54  0.22  NUC\n",
       "3     AATM_YEAST  0.42  0.44  0.48  0.54   0.5   0.0  0.48  0.22  MIT\n",
       "4     AATC_YEAST  0.51  0.40  0.56  0.17   0.5   0.5  0.49  0.22  CYT\n",
       "...          ...   ...   ...   ...   ...   ...   ...   ...   ...  ...\n",
       "1478  YUR1_YEAST  0.81  0.62  0.43  0.17   0.5   0.0  0.53  0.22  ME2\n",
       "1479  ZIP1_YEAST  0.47  0.43  0.61  0.40   0.5   0.0  0.48  0.47  NUC\n",
       "1480  ZNRP_YEAST  0.67  0.57  0.36  0.19   0.5   0.0  0.56  0.22  ME2\n",
       "1481  ZUO1_YEAST  0.43  0.40  0.60  0.16   0.5   0.0  0.53  0.39  NUC\n",
       "1482  G6PD_YEAST  0.65  0.54  0.54  0.13   0.5   0.0  0.53  0.22  CYT\n",
       "\n",
       "[1483 rows x 10 columns]>"
      ]
     },
     "execution_count": 2,
     "metadata": {},
     "output_type": "execute_result"
    }
   ],
   "source": [
    "raw_data = pd.read_csv('yeast.ssv', sep='\\s+')\n",
    "raw_data.head"
   ]
  },
  {
   "cell_type": "code",
   "execution_count": 3,
   "metadata": {},
   "outputs": [
    {
     "data": {
      "text/plain": [
       "array([[0.43, 0.67, 0.48, ..., 0.  , 0.53, 0.22],\n",
       "       [0.64, 0.62, 0.49, ..., 0.  , 0.53, 0.22],\n",
       "       [0.58, 0.44, 0.57, ..., 0.  , 0.54, 0.22],\n",
       "       ...,\n",
       "       [0.67, 0.57, 0.36, ..., 0.  , 0.56, 0.22],\n",
       "       [0.43, 0.4 , 0.6 , ..., 0.  , 0.53, 0.39],\n",
       "       [0.65, 0.54, 0.54, ..., 0.  , 0.53, 0.22]])"
      ]
     },
     "execution_count": 3,
     "metadata": {},
     "output_type": "execute_result"
    }
   ],
   "source": [
    "X = raw_data.iloc[:, 1:-1].to_numpy()\n",
    "X"
   ]
  },
  {
   "cell_type": "code",
   "execution_count": 4,
   "metadata": {},
   "outputs": [
    {
     "data": {
      "text/plain": [
       "array(['MIT', 'MIT', 'NUC', ..., 'ME2', 'NUC', 'CYT'], dtype=object)"
      ]
     },
     "execution_count": 4,
     "metadata": {},
     "output_type": "execute_result"
    }
   ],
   "source": [
    "y = raw_data.iloc[:, -1].to_numpy()\n",
    "y"
   ]
  },
  {
   "cell_type": "code",
   "execution_count": 21,
   "metadata": {},
   "outputs": [
    {
     "name": "stdout",
     "output_type": "stream",
     "text": [
      "F1_macro; mean is: 0.516117255380826, deviation is:0.06651996576990277\n",
      "Accuracy; mean is: 0.5758326508326508, deviation is:0.024565001778455504\n",
      "Preision_micro; mean is: 0.5758326508326508, deviation is:0.024565001778455504\n",
      "Recall_macro; mean is: 0.5230637516646179, deviation is:0.07344314507263844\n"
     ]
    }
   ],
   "source": [
    "from sklearn.model_selection import train_test_split\n",
    "from sklearn.model_selection import StratifiedKFold\n",
    "from sklearn.model_selection import RepeatedStratifiedKFold\n",
    "from sklearn.preprocessing import StandardScaler\n",
    "from sklearn.neighbors import KNeighborsClassifier\n",
    "from sklearn.model_selection import cross_validate\n",
    "from sklearn.pipeline import Pipeline\n",
    "from sklearn.model_selection import GridSearchCV\n",
    "from sklearn.metrics import recall_score\n",
    "\n",
    "\n",
    "inner_skf = RepeatedStratifiedKFold(n_splits=4, n_repeats=5)\n",
    "outer_skf = StratifiedKFold(n_splits=5)\n",
    "scaler = StandardScaler()\n",
    "p_grid = {\"knn__n_neighbors\":[5, 6, 7, 8, 9, 10, 11, 12, 13, 14, 15, 16, 17]}\n",
    "knn = KNeighborsClassifier()\n",
    "pipe = Pipeline(steps=[('scaler',scaler), ('knn', knn)])\n",
    "clf=GridSearchCV(estimator=pipe, param_grid=p_grid, cv=inner_skf)\n",
    "scoring = ['accuracy', 'f1_macro', 'recall_macro', 'precision_micro']\n",
    "scores = cross_validate(clf, X=X, y=y, cv=outer_skf, scoring=scoring)\n",
    "\n",
    "print(\"F1_macro; mean is: {}, deviation is:{}\".format(scores['test_f1_macro'].mean(), scores['test_f1_macro'].std()))\n",
    "print(\"Accuracy; mean is: {}, deviation is:{}\".format(scores['test_accuracy'].mean(), scores['test_accuracy'].std()))\n",
    "print(\"Preision_micro; mean is: {}, deviation is:{}\".format(scores['test_precision_micro'].mean(), scores['test_precision_micro'].std()))\n",
    "print(\"Recall_macro; mean is: {}, deviation is:{}\".format(scores['test_recall_macro'].mean(), scores['test_recall_macro'].std()))"
   ]
  }
 ],
 "metadata": {
  "kernelspec": {
   "display_name": "Python 3 (Spyder)",
   "language": "python3",
   "name": "python3"
  },
  "language_info": {
   "codemirror_mode": {
    "name": "ipython",
    "version": 3
   },
   "file_extension": ".py",
   "mimetype": "text/x-python",
   "name": "python",
   "nbconvert_exporter": "python",
   "pygments_lexer": "ipython3",
   "version": "3.8.5"
  }
 },
 "nbformat": 4,
 "nbformat_minor": 4
}
