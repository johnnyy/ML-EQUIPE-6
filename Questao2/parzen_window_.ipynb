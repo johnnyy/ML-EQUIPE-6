{
  "nbformat": 4,
  "nbformat_minor": 0,
  "metadata": {
    "colab": {
      "name": "parzen_window_.ipynb",
      "provenance": [],
      "collapsed_sections": []
    },
    "kernelspec": {
      "name": "python3",
      "display_name": "Python 3"
    },
    "language_info": {
      "name": "python"
    }
  },
  "cells": [
    {
      "cell_type": "code",
      "metadata": {
        "id": "iIcv9T7qZNJo"
      },
      "source": [
        "import numpy as np\n",
        "import csv\n",
        "import pandas as pd\n",
        "\n",
        "from collections import Counter\n",
        "from numpy import linalg as LA"
      ],
      "execution_count": 3,
      "outputs": []
    },
    {
      "cell_type": "code",
      "metadata": {
        "id": "sghBzLSDZM7J"
      },
      "source": [
        "with open(\"/content/drive/MyDrive/CIn/Mestrado/2021.1/Aprendizagem de Máquina/Projeto - Francisco/yeast.data\") as input_file:\n",
        "   lines = input_file.readlines()\n",
        "   newLines = []\n",
        "   for line in lines:\n",
        "      newLine = line.strip().split()\n",
        "      newLines.append(newLine)\n",
        "\n",
        "with open(\"/content/drive/MyDrive/CIn/Mestrado/2021.1/Aprendizagem de Máquina/Projeto - Francisco/yeast.csv\", 'w') as test_file:\n",
        "   file_writer = csv.writer(test_file)\n",
        "   file_writer.writerows(newLines)"
      ],
      "execution_count": 4,
      "outputs": []
    },
    {
      "cell_type": "code",
      "metadata": {
        "colab": {
          "base_uri": "https://localhost:8080/"
        },
        "id": "s02nFw4JZaNz",
        "outputId": "23089dca-37d3-40fc-9ebd-9e2c83ebae58"
      },
      "source": [
        "# reading csv files\n",
        "data =  pd.read_csv(\"/content/drive/MyDrive/CIn/Mestrado/2021.1/Aprendizagem de Máquina/Projeto - Francisco/yeast.csv\",\n",
        "                    names=[\"sequence_name\", \"mcg\", \"gvh\", \"alm\", \"mit\", \"erl\", \"pox\", \"vac\", \"nuc\", \"protein_local\"])\n",
        "print(data)"
      ],
      "execution_count": 5,
      "outputs": [
        {
          "output_type": "stream",
          "text": [
            "     sequence_name   mcg   gvh   alm   mit  erl  pox   vac   nuc protein_local\n",
            "0       ADT1_YEAST  0.58  0.61  0.47  0.13  0.5  0.0  0.48  0.22           MIT\n",
            "1       ADT2_YEAST  0.43  0.67  0.48  0.27  0.5  0.0  0.53  0.22           MIT\n",
            "2       ADT3_YEAST  0.64  0.62  0.49  0.15  0.5  0.0  0.53  0.22           MIT\n",
            "3       AAR2_YEAST  0.58  0.44  0.57  0.13  0.5  0.0  0.54  0.22           NUC\n",
            "4       AATM_YEAST  0.42  0.44  0.48  0.54  0.5  0.0  0.48  0.22           MIT\n",
            "...            ...   ...   ...   ...   ...  ...  ...   ...   ...           ...\n",
            "1479    YUR1_YEAST  0.81  0.62  0.43  0.17  0.5  0.0  0.53  0.22           ME2\n",
            "1480    ZIP1_YEAST  0.47  0.43  0.61  0.40  0.5  0.0  0.48  0.47           NUC\n",
            "1481    ZNRP_YEAST  0.67  0.57  0.36  0.19  0.5  0.0  0.56  0.22           ME2\n",
            "1482    ZUO1_YEAST  0.43  0.40  0.60  0.16  0.5  0.0  0.53  0.39           NUC\n",
            "1483    G6PD_YEAST  0.65  0.54  0.54  0.13  0.5  0.0  0.53  0.22           CYT\n",
            "\n",
            "[1484 rows x 10 columns]\n"
          ],
          "name": "stdout"
        }
      ]
    },
    {
      "cell_type": "code",
      "metadata": {
        "id": "MLqVZQYUZdWX"
      },
      "source": [
        "X = data.iloc[:, 1:9].values\n",
        "y = data.iloc[:, 9].values"
      ],
      "execution_count": 6,
      "outputs": []
    },
    {
      "cell_type": "code",
      "metadata": {
        "id": "bCwKoS3LoKuO"
      },
      "source": [
        "def p_estimate_parzen_window(x,h,X,y):\n",
        "\n",
        "  classes = np.unique(y)\n",
        "\n",
        "  concat = np.hstack((X,np.expand_dims(y, axis=1)))\n",
        "\n",
        "  p_list = []\n",
        "\n",
        "  for i in classes:\n",
        "\n",
        "    input_values_class = concat[concat[:,-1]==i, 0:-1]\n",
        "\n",
        "    sub = (x - input_values_class)/h\n",
        "\n",
        "    cte = (1/(np.sqrt(2)*np.pi))\n",
        "\n",
        "    K = np.prod(cte*np.exp(-sub.astype(float)**2/2),axis=1)\n",
        "\n",
        "    p = sum(K)\n",
        "\n",
        "    n_i = len(sub)\n",
        "\n",
        "    d = len(sub[0])\n",
        "\n",
        "    p_list.append([i,p/(n_i*(h**d))])\n",
        "    \n",
        "    p = 0\n",
        "\n",
        "  return p_list"
      ],
      "execution_count": 7,
      "outputs": []
    },
    {
      "cell_type": "code",
      "metadata": {
        "colab": {
          "base_uri": "https://localhost:8080/"
        },
        "id": "NE1J91xewyRx",
        "outputId": "e2638cea-b845-4af5-d3ea-ac51178b1f23"
      },
      "source": [
        "%%time\n",
        "\n",
        "x = np.array([0.58, 0.61, 0.47, 0.13, 0.5, 0.0, 0.48, 0.22])\n",
        "\n",
        "h = 0.1\n",
        "\n",
        "print(p_estimate_parzen_window(x,h,X,y))"
      ],
      "execution_count": 8,
      "outputs": [
        {
          "output_type": "stream",
          "text": [
            "[['CYT', 69.33238643122478], ['ERL', 1.0379210962734828e-05], ['EXC', 28.406117524693766], ['ME1', 9.938011012213677], ['ME2', 37.504110365722426], ['ME3', 47.08696448872214], ['MIT', 43.180589385501904], ['NUC', 41.83642494029781], ['POX', 30.946992539259973], ['VAC', 60.555157564944054]]\n",
            "CPU times: user 6.67 ms, sys: 1.94 ms, total: 8.61 ms\n",
            "Wall time: 10.7 ms\n"
          ],
          "name": "stdout"
        }
      ]
    },
    {
      "cell_type": "code",
      "metadata": {
        "id": "PgZyN2NQUZBk"
      },
      "source": [
        "def probability_priori(y):\n",
        "  \"\"\"return a list with each priori probability\"\"\"\n",
        "\n",
        "  pr_pb = Counter(y)\n",
        "\n",
        "  total = sum(pr_pb.values(), 0.0)\n",
        "\n",
        "  for key in pr_pb:\n",
        "    pr_pb[key] /= total  \n",
        "\n",
        "  return pr_pb"
      ],
      "execution_count": 9,
      "outputs": []
    },
    {
      "cell_type": "code",
      "metadata": {
        "id": "ugXKJ-duY-pm"
      },
      "source": [
        "class Parzen:\n",
        "    def __init__(self, h=1):\n",
        "        self.h = h\n",
        "\n",
        "    def predict(self,x,X,y):\n",
        "\n",
        "      pp = probability_priori(y)\n",
        "\n",
        "      predict_parzen = []\n",
        "\n",
        "      for x_i in x:\n",
        "\n",
        "        parzen = p_estimate_parzen_window(x_i,self.h,X,y)\n",
        "\n",
        "        parzen_probs = []\n",
        "\n",
        "        for n,i in enumerate(parzen):\n",
        "          num = pp[parzen[n][0]]*parzen[n][1]\n",
        "          den = 0\n",
        "          for k,j in enumerate(parzen):\n",
        "            den+= pp[parzen[k][0]]*parzen[k][1]\n",
        "\n",
        "          parzen_probs.append(num/den)\n",
        "\n",
        "        predict_parzen.append(parzen[parzen_probs.index(max(parzen_probs))][0])\n",
        "\n",
        "      return predict_parzen"
      ],
      "execution_count": 18,
      "outputs": []
    },
    {
      "cell_type": "code",
      "metadata": {
        "colab": {
          "base_uri": "https://localhost:8080/"
        },
        "id": "IY1AJptPwUDV",
        "outputId": "fe10e73d-fa59-45c4-c877-e4fd370c08e9"
      },
      "source": [
        "from sklearn.model_selection import train_test_split\n",
        "from sklearn.metrics import accuracy_score, precision_score, recall_score, f1_score\n",
        "from sklearn.model_selection import StratifiedKFold, KFold\n",
        "from sklearn.neighbors import KNeighborsClassifier\n",
        "\n",
        "skf = StratifiedKFold(n_splits=5)\n",
        "\n",
        "kf = KFold(n_splits=5)\n",
        "\n",
        "accuracy = []\n",
        "precision = []\n",
        "recall = []\n",
        "f_measure = []\n",
        "\n",
        "for train_index, test_index in skf.split(X, y):\n",
        "\n",
        "  h_values = []\n",
        "\n",
        "  X_train, X_test = X[train_index], X[test_index]\n",
        "  y_train, y_test = y[train_index], y[test_index]\n",
        "\n",
        "  for tr_index, tst_index in kf.split(X_train):\n",
        "\n",
        "    parameter_h = []\n",
        "\n",
        "    X_tr, X_val = X_train[tr_index], X_train[tst_index]\n",
        "    y_tr, y_val = y_train[tr_index], y_train[tst_index]\n",
        "\n",
        "    for h in np.linspace(0.01, 0.3, num=10):\n",
        "\n",
        "      parzen_classifier = Parzen(h)\n",
        "      parzen_predict = parzen_classifier.predict(X_val,X_tr,y_tr)\n",
        "\n",
        "      parameter_h.append([accuracy_score(y_val, parzen_predict),h])\n",
        "\n",
        "    h_values.append([max(parameter_h)[0],max(parameter_h)[1]])\n",
        "\n",
        "  h = max(h_values)[1]\n",
        "\n",
        "  print(\"Best h:\",h)\n",
        "\n",
        "  X_train = X[train_index]\n",
        "  y_train = y[train_index]\n",
        "\n",
        "  parzen_classifier = Parzen(h)\n",
        "  parzen_predict = parzen_classifier.predict(X_test,X_train,y_train)\n",
        "\n",
        "  accuracy.append(accuracy_score(y_test, parzen_predict))\n",
        "  precision.append(precision_score(y_test, parzen_predict, average='macro',zero_division=0))\n",
        "  recall.append(recall_score(y_test, parzen_predict, average='macro',zero_division=0))\n",
        "  f_measure.append(f1_score(y_test, parzen_predict, average='macro',zero_division=0))\n",
        "\n",
        "  print(\"accuracy: \",accuracy_score(y_test, parzen_predict))\n",
        "\n",
        "print(\"\\nMean accuracy: \",sum(accuracy)/len(accuracy), \"Std: \",np.std(accuracy))\n",
        "print(\"Mean precision: \",sum(precision)/len(precision), \"Std: \",np.std(precision))\n",
        "print(\"Mean recall: \",sum(recall)/len(recall), \"Std: \",np.std(recall))\n",
        "print(\"Mean f_measure: \",sum(f_measure)/len(f_measure), \"Std: \",np.std(f_measure))"
      ],
      "execution_count": 20,
      "outputs": [
        {
          "output_type": "stream",
          "text": [
            "/usr/local/lib/python3.7/dist-packages/ipykernel_launcher.py:23: RuntimeWarning: invalid value encountered in double_scalars\n"
          ],
          "name": "stderr"
        },
        {
          "output_type": "stream",
          "text": [
            "Best h: 0.07444444444444444\n",
            "accuracy:  0.5892255892255892\n",
            "Best h: 0.07444444444444444\n",
            "accuracy:  0.6094276094276094\n",
            "Best h: 0.07444444444444444\n",
            "accuracy:  0.5959595959595959\n",
            "Best h: 0.07444444444444444\n",
            "accuracy:  0.5084175084175084\n",
            "Best h: 0.07444444444444444\n",
            "accuracy:  0.5709459459459459\n",
            "\n",
            "Mean accuracy:  0.5747952497952498 Std:  0.03542989209376387\n",
            "Mean precision:  0.6139695939118838 Std:  0.04486153487879772\n",
            "Mean recall:  0.5514757497622508 Std:  0.023195406520763937\n",
            "Mean f_measure:  0.5586424899950423 Std:  0.02411368275613269\n"
          ],
          "name": "stdout"
        }
      ]
    }
  ]
}