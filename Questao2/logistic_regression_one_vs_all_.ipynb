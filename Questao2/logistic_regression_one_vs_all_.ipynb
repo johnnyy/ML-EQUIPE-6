{
  "nbformat": 4,
  "nbformat_minor": 0,
  "metadata": {
    "colab": {
      "name": "logistic_regression_one_vs_all_.ipynb",
      "provenance": [],
      "collapsed_sections": []
    },
    "kernelspec": {
      "name": "python3",
      "display_name": "Python 3"
    },
    "language_info": {
      "name": "python"
    }
  },
  "cells": [
    {
      "cell_type": "code",
      "metadata": {
        "id": "4wEDK1ULU331"
      },
      "source": [
        "import numpy as np\n",
        "import csv\n",
        "import pandas as pd\n",
        "\n",
        "from collections import Counter\n",
        "from numpy import linalg as LA"
      ],
      "execution_count": 1,
      "outputs": []
    },
    {
      "cell_type": "code",
      "metadata": {
        "id": "d6VUoHqUVI6z"
      },
      "source": [
        "with open(\"/content/drive/MyDrive/CIn/Mestrado/2021.1/Aprendizagem de Máquina/Projeto - Francisco/yeast.data\") as input_file:\n",
        "   lines = input_file.readlines()\n",
        "   newLines = []\n",
        "   for line in lines:\n",
        "      newLine = line.strip().split()\n",
        "      newLines.append(newLine)\n",
        "\n",
        "with open(\"/content/drive/MyDrive/CIn/Mestrado/2021.1/Aprendizagem de Máquina/Projeto - Francisco/yeast.csv\", 'w') as test_file:\n",
        "   file_writer = csv.writer(test_file)\n",
        "   file_writer.writerows(newLines)"
      ],
      "execution_count": 2,
      "outputs": []
    },
    {
      "cell_type": "code",
      "metadata": {
        "colab": {
          "base_uri": "https://localhost:8080/"
        },
        "id": "a64fhkkAVNQn",
        "outputId": "13ba0e73-3346-47c5-d5a5-ee4a98bc8fe8"
      },
      "source": [
        "# reading csv files\n",
        "data =  pd.read_csv(\"/content/drive/MyDrive/CIn/Mestrado/2021.1/Aprendizagem de Máquina/Projeto - Francisco/yeast.csv\",\n",
        "                    names=[\"sequence_name\", \"mcg\", \"gvh\", \"alm\", \"mit\", \"erl\", \"pox\", \"vac\", \"nuc\", \"protein_local\"])\n",
        "print(data)"
      ],
      "execution_count": 3,
      "outputs": [
        {
          "output_type": "stream",
          "text": [
            "     sequence_name   mcg   gvh   alm   mit  erl  pox   vac   nuc protein_local\n",
            "0       ADT1_YEAST  0.58  0.61  0.47  0.13  0.5  0.0  0.48  0.22           MIT\n",
            "1       ADT2_YEAST  0.43  0.67  0.48  0.27  0.5  0.0  0.53  0.22           MIT\n",
            "2       ADT3_YEAST  0.64  0.62  0.49  0.15  0.5  0.0  0.53  0.22           MIT\n",
            "3       AAR2_YEAST  0.58  0.44  0.57  0.13  0.5  0.0  0.54  0.22           NUC\n",
            "4       AATM_YEAST  0.42  0.44  0.48  0.54  0.5  0.0  0.48  0.22           MIT\n",
            "...            ...   ...   ...   ...   ...  ...  ...   ...   ...           ...\n",
            "1479    YUR1_YEAST  0.81  0.62  0.43  0.17  0.5  0.0  0.53  0.22           ME2\n",
            "1480    ZIP1_YEAST  0.47  0.43  0.61  0.40  0.5  0.0  0.48  0.47           NUC\n",
            "1481    ZNRP_YEAST  0.67  0.57  0.36  0.19  0.5  0.0  0.56  0.22           ME2\n",
            "1482    ZUO1_YEAST  0.43  0.40  0.60  0.16  0.5  0.0  0.53  0.39           NUC\n",
            "1483    G6PD_YEAST  0.65  0.54  0.54  0.13  0.5  0.0  0.53  0.22           CYT\n",
            "\n",
            "[1484 rows x 10 columns]\n"
          ],
          "name": "stdout"
        }
      ]
    },
    {
      "cell_type": "code",
      "metadata": {
        "id": "cdrK_OrgVQxp"
      },
      "source": [
        "X = data.iloc[:, 1:9].values\n",
        "y = data.iloc[:, 9].values"
      ],
      "execution_count": 4,
      "outputs": []
    },
    {
      "cell_type": "code",
      "metadata": {
        "colab": {
          "base_uri": "https://localhost:8080/"
        },
        "id": "VzCaoV8EVTPt",
        "outputId": "31f0d836-b826-4bcd-9bbb-32ebf4c1b643"
      },
      "source": [
        "from sklearn.model_selection import train_test_split\n",
        "from sklearn.metrics import accuracy_score, precision_score, recall_score, f1_score\n",
        "from sklearn.linear_model import LogisticRegression\n",
        "from sklearn.model_selection import StratifiedKFold\n",
        "\n",
        "accuracy = []\n",
        "precision = []\n",
        "recall = []\n",
        "f_measure = []\n",
        "\n",
        "skf = StratifiedKFold(n_splits=5)\n",
        "\n",
        "for train_index, test_index in skf.split(X,y):\n",
        "\n",
        "  X_train, X_test = X[train_index], X[test_index]\n",
        "  y_train, y_test = y[train_index], y[test_index]\n",
        "\n",
        "  clf = LogisticRegression(random_state=0,multi_class=\"ovr\").fit(X_train, y_train)\n",
        "  lr_predict = clf.predict(X_test)\n",
        "  \n",
        "  accuracy.append(accuracy_score(y_test, lr_predict))\n",
        "  precision.append(precision_score(y_test, lr_predict, average='macro',zero_division=0))\n",
        "  recall.append(recall_score(y_test, lr_predict, average='macro',zero_division=0))\n",
        "  f_measure.append(f1_score(y_test, lr_predict, average='macro',zero_division=0))\n",
        "\n",
        "  print(\"accuracy: \",accuracy_score(y_test, lr_predict))\n",
        "\n",
        "print(\"\\nMean accuracy: \",sum(accuracy)/len(accuracy), \"Std: \",np.std(accuracy))\n",
        "print(\"Mean precision: \",sum(precision)/len(precision), \"Std: \",np.std(precision))\n",
        "print(\"Mean recall: \",sum(recall)/len(recall), \"Std: \",np.std(recall))\n",
        "print(\"Mean f_measure: \",sum(f_measure)/len(f_measure), \"Std: \",np.std(f_measure))"
      ],
      "execution_count": 5,
      "outputs": [
        {
          "output_type": "stream",
          "text": [
            "accuracy:  0.5387205387205387\n",
            "accuracy:  0.5656565656565656\n",
            "accuracy:  0.5589225589225589\n",
            "accuracy:  0.494949494949495\n",
            "accuracy:  0.5540540540540541\n",
            "\n",
            "Mean accuracy:  0.5424606424606424 Std:  0.025356459739866243\n",
            "Mean precision:  0.4065435713256356 Std:  0.0211729656132976\n",
            "Mean recall:  0.3107987730415226 Std:  0.015615980980184034\n",
            "Mean f_measure:  0.3311316240378822 Std:  0.014857869946975903\n"
          ],
          "name": "stdout"
        }
      ]
    }
  ]
}