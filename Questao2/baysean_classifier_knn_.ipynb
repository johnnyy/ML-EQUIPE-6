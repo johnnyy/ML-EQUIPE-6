{
  "nbformat": 4,
  "nbformat_minor": 0,
  "metadata": {
    "colab": {
      "name": "baysean_classifier_knn_.ipynb",
      "provenance": [],
      "collapsed_sections": []
    },
    "kernelspec": {
      "name": "python3",
      "display_name": "Python 3"
    },
    "language_info": {
      "name": "python"
    }
  },
  "cells": [
    {
      "cell_type": "code",
      "metadata": {
        "id": "mnQqjAE7Fm0b"
      },
      "source": [
        "import numpy as np\n",
        "import csv\n",
        "import pandas as pd\n",
        "\n",
        "from collections import Counter\n",
        "from numpy import linalg as LA"
      ],
      "execution_count": 17,
      "outputs": []
    },
    {
      "cell_type": "code",
      "metadata": {
        "id": "bJNx_zV0JdS-"
      },
      "source": [
        "with open(\"/content/drive/MyDrive/CIn/Mestrado/2021.1/Aprendizagem de Máquina/Projeto - Francisco/yeast.data\") as input_file:\n",
        "   lines = input_file.readlines()\n",
        "   newLines = []\n",
        "   for line in lines:\n",
        "      newLine = line.strip().split()\n",
        "      newLines.append(newLine)\n",
        "\n",
        "with open(\"/content/drive/MyDrive/CIn/Mestrado/2021.1/Aprendizagem de Máquina/Projeto - Francisco/yeast.csv\", 'w') as test_file:\n",
        "   file_writer = csv.writer(test_file)\n",
        "   file_writer.writerows(newLines)"
      ],
      "execution_count": 18,
      "outputs": []
    },
    {
      "cell_type": "code",
      "metadata": {
        "colab": {
          "base_uri": "https://localhost:8080/"
        },
        "id": "2SDaMUV-Jj61",
        "outputId": "21f48dad-3afe-47ba-bbbe-c95713e122c3"
      },
      "source": [
        "# reading csv files\n",
        "data =  pd.read_csv(\"/content/drive/MyDrive/CIn/Mestrado/2021.1/Aprendizagem de Máquina/Projeto - Francisco/yeast.csv\",\n",
        "                    names=[\"sequence_name\", \"mcg\", \"gvh\", \"alm\", \"mit\", \"erl\", \"pox\", \"vac\", \"nuc\", \"protein_local\"])\n",
        "print(data)"
      ],
      "execution_count": 19,
      "outputs": [
        {
          "output_type": "stream",
          "text": [
            "     sequence_name   mcg   gvh   alm   mit  erl  pox   vac   nuc protein_local\n",
            "0       ADT1_YEAST  0.58  0.61  0.47  0.13  0.5  0.0  0.48  0.22           MIT\n",
            "1       ADT2_YEAST  0.43  0.67  0.48  0.27  0.5  0.0  0.53  0.22           MIT\n",
            "2       ADT3_YEAST  0.64  0.62  0.49  0.15  0.5  0.0  0.53  0.22           MIT\n",
            "3       AAR2_YEAST  0.58  0.44  0.57  0.13  0.5  0.0  0.54  0.22           NUC\n",
            "4       AATM_YEAST  0.42  0.44  0.48  0.54  0.5  0.0  0.48  0.22           MIT\n",
            "...            ...   ...   ...   ...   ...  ...  ...   ...   ...           ...\n",
            "1479    YUR1_YEAST  0.81  0.62  0.43  0.17  0.5  0.0  0.53  0.22           ME2\n",
            "1480    ZIP1_YEAST  0.47  0.43  0.61  0.40  0.5  0.0  0.48  0.47           NUC\n",
            "1481    ZNRP_YEAST  0.67  0.57  0.36  0.19  0.5  0.0  0.56  0.22           ME2\n",
            "1482    ZUO1_YEAST  0.43  0.40  0.60  0.16  0.5  0.0  0.53  0.39           NUC\n",
            "1483    G6PD_YEAST  0.65  0.54  0.54  0.13  0.5  0.0  0.53  0.22           CYT\n",
            "\n",
            "[1484 rows x 10 columns]\n"
          ],
          "name": "stdout"
        }
      ]
    },
    {
      "cell_type": "code",
      "metadata": {
        "id": "AK4G1dlhJmKr"
      },
      "source": [
        "X = data.iloc[:, 1:9].values\n",
        "y = data.iloc[:, 9].values"
      ],
      "execution_count": 20,
      "outputs": []
    },
    {
      "cell_type": "code",
      "metadata": {
        "colab": {
          "base_uri": "https://localhost:8080/"
        },
        "id": "pKVzYNXJQDfh",
        "outputId": "ac9c2578-524a-4c78-87e7-b8cf6325af1d"
      },
      "source": [
        "from sklearn.model_selection import train_test_split\n",
        "from sklearn.model_selection import StratifiedKFold\n",
        "from sklearn.model_selection import KFold\n",
        "from sklearn.preprocessing import StandardScaler\n",
        "from sklearn.neighbors import KNeighborsClassifier\n",
        "from sklearn.model_selection import cross_validate\n",
        "from sklearn.pipeline import Pipeline\n",
        "from sklearn.model_selection import GridSearchCV\n",
        "from sklearn.metrics import recall_score\n",
        "\n",
        "inner_kf = KFold(n_splits=5)\n",
        "outer_skf = StratifiedKFold(n_splits=5)\n",
        "scaler = StandardScaler()\n",
        "p_grid = {\"knn__n_neighbors\":range(2, 40, 1)}\n",
        "knn = KNeighborsClassifier()\n",
        "pipe = Pipeline(steps=[('scaler',scaler), ('knn', knn)])\n",
        "clf=GridSearchCV(estimator=pipe, param_grid=p_grid, cv=inner_kf)\n",
        "scoring = ['accuracy', 'f1_macro', 'recall_macro', 'precision_micro']\n",
        "scores = cross_validate(clf, X=X, y=y, cv=outer_skf, scoring=scoring, return_estimator=True)\n",
        "\n",
        "print(\"F1_macro; mean is: {}, deviation is:{}\".format(scores['test_f1_macro'].mean(), scores['test_f1_macro'].std()))\n",
        "print(\"Accuracy; mean is: {}, deviation is:{}\".format(scores['test_accuracy'].mean(), scores['test_accuracy'].std()))\n",
        "print(\"Precision_micro; mean is: {}, deviation is:{}\".format(scores['test_precision_micro'].mean(), scores['test_precision_micro'].std()))\n",
        "print(\"Recall_macro; mean is: {}, deviation is:{}\".format(scores['test_recall_macro'].mean(), scores['test_recall_macro'].std()))\n",
        "\n",
        "for estimator in scores['estimator']:\n",
        "    print(estimator.best_params_)"
      ],
      "execution_count": 23,
      "outputs": [
        {
          "output_type": "stream",
          "text": [
            "F1_macro; mean is: 0.5163793726546485, deviation is:0.06349570529567317\n",
            "Accuracy; mean is: 0.5727818727818728, deviation is:0.02575678124267269\n",
            "Precision_micro; mean is: 0.5727818727818728, deviation is:0.02575678124267269\n",
            "Recall_macro; mean is: 0.5242628683664616, deviation is:0.07177279178446955\n",
            "{'knn__n_neighbors': 9}\n",
            "{'knn__n_neighbors': 12}\n",
            "{'knn__n_neighbors': 14}\n",
            "{'knn__n_neighbors': 18}\n",
            "{'knn__n_neighbors': 14}\n"
          ],
          "name": "stdout"
        }
      ]
    },
    {
      "cell_type": "markdown",
      "metadata": {
        "id": "A7n5P5FFoD2p"
      },
      "source": [
        "### Escolhendo o melhor hiperparametro"
      ]
    },
    {
      "cell_type": "code",
      "metadata": {
        "colab": {
          "base_uri": "https://localhost:8080/"
        },
        "id": "pL9E-jFbwZ7c",
        "outputId": "e9df1b09-e4f2-44b3-e174-24c53a09a253"
      },
      "source": [
        "from sklearn.model_selection import train_test_split\n",
        "from sklearn.metrics import accuracy_score, precision_score, recall_score, f1_score\n",
        "from sklearn.model_selection import StratifiedKFold\n",
        "from sklearn.neighbors import KNeighborsClassifier\n",
        "\n",
        "skf = StratifiedKFold(n_splits=5)\n",
        "\n",
        "k_list = [9,12,14,18]\n",
        "\n",
        "mean_accuracy = []\n",
        "\n",
        "for k in k_list:\n",
        "\n",
        "  accuracy = []\n",
        "  precision = []\n",
        "  recall = []\n",
        "  f_measure = []\n",
        "\n",
        "  for train_index, test_index in skf.split(X, y):\n",
        "\n",
        "    X_train, X_test = X[train_index], X[test_index]\n",
        "    y_train, y_test = y[train_index], y[test_index]\n",
        "\n",
        "    neigh = KNeighborsClassifier(n_neighbors=k)\n",
        "    neigh.fit(X_train, y_train)\n",
        "\n",
        "    knn_predict = neigh.predict(X_test)\n",
        "\n",
        "    accuracy.append(accuracy_score(y_test, knn_predict))\n",
        "    precision.append(precision_score(y_test, knn_predict, average='macro',zero_division=0))\n",
        "    recall.append(recall_score(y_test, knn_predict, average='macro',zero_division=0))\n",
        "    f_measure.append(f1_score(y_test, knn_predict, average='macro',zero_division=0))\n",
        "\n",
        "  print('\\n')\n",
        "  print(k)\n",
        "  print(\"Mean accuracy: \",sum(accuracy)/len(accuracy), \"Std: \",np.std(accuracy))\n",
        "  print(\"Mean precision: \",sum(precision)/len(precision), \"Std: \",np.std(precision))\n",
        "  print(\"Mean recall: \",sum(recall)/len(recall), \"Std: \",np.std(recall))\n",
        "  print(\"Mean f_measure: \",sum(f_measure)/len(f_measure), \"Std: \",np.std(f_measure))\n",
        "\n",
        "  mean_accuracy.append([sum(accuracy)/len(accuracy),k])\n",
        "\n",
        "print(\"\\nMax accuracy: \",max(mean_accuracy)[0],\"Parameter: \",max(mean_accuracy)[1])"
      ],
      "execution_count": 24,
      "outputs": [
        {
          "output_type": "stream",
          "text": [
            "\n",
            "\n",
            "9\n",
            "Mean accuracy:  0.5674196924196924 Std:  0.03358772709312427\n",
            "Mean precision:  0.5802622293124762 Std:  0.055241357826057706\n",
            "Mean recall:  0.5691200620534274 Std:  0.03693778283303979\n",
            "Mean f_measure:  0.554191222376502 Std:  0.04362157311294963\n",
            "\n",
            "\n",
            "12\n",
            "Mean accuracy:  0.5613386113386113 Std:  0.02391171939133774\n",
            "Mean precision:  0.5518903557812654 Std:  0.03851880571454237\n",
            "Mean recall:  0.5260904046865156 Std:  0.042387396701307554\n",
            "Mean f_measure:  0.524174629080318 Std:  0.03633212941554262\n",
            "\n",
            "\n",
            "14\n",
            "Mean accuracy:  0.5687369187369187 Std:  0.02430044763606055\n",
            "Mean precision:  0.5705006564236044 Std:  0.043049057247285784\n",
            "Mean recall:  0.5289184569337679 Std:  0.050444272756627856\n",
            "Mean f_measure:  0.5342244172609023 Std:  0.04542437717118001\n",
            "\n",
            "\n",
            "18\n",
            "Mean accuracy:  0.5802006552006553 Std:  0.015851871725002156\n",
            "Mean precision:  0.506433319908586 Std:  0.031143095940247514\n",
            "Mean recall:  0.46418380316835306 Std:  0.023423849708725027\n",
            "Mean f_measure:  0.46871241656436285 Std:  0.02346386082755748\n",
            "\n",
            "Max accuracy:  0.5802006552006553 Parameter:  18\n"
          ],
          "name": "stdout"
        }
      ]
    }
  ]
}